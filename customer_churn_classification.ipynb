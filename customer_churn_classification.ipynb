{
 "cells": [
  {
   "attachments": {},
   "cell_type": "markdown",
   "metadata": {},
   "source": [
    "### Introduction\n",
    "In this code, we perform data analysis and evaluate various machine learning models for the Telco Customer Churn dataset. We start by importing the necessary libraries and loading the dataset using Pandas. Let's go through the code step by step."
   ]
  },
  {
   "cell_type": "code",
   "execution_count": 1,
   "metadata": {},
   "outputs": [],
   "source": [
    "# Importing the necessary libraries\n",
    "import pandas as pd\n",
    "import numpy as np\n",
    "import matplotlib.pyplot as plt\n",
    "import seaborn as sns\n",
    "from sklearn.model_selection import train_test_split\n",
    "from sklearn.linear_model import LogisticRegression\n",
    "from sklearn.tree import DecisionTreeClassifier\n",
    "from sklearn.ensemble import RandomForestClassifier\n",
    "from sklearn.naive_bayes import GaussianNB\n",
    "from sklearn.svm import SVC\n",
    "from sklearn.preprocessing import StandardScaler\n",
    "from sklearn.metrics import accuracy_score, confusion_matrix, classification_report"
   ]
  },
  {
   "cell_type": "code",
   "execution_count": 2,
   "metadata": {},
   "outputs": [],
   "source": [
    "# Importing the necessary libraries for deep learning\n",
    "import tensorflow as tf\n",
    "from tensorflow import keras\n",
    "from keras.models import Sequential\n",
    "from keras.layers import Dense, Dropout"
   ]
  },
  {
   "cell_type": "code",
   "execution_count": 3,
   "metadata": {},
   "outputs": [],
   "source": [
    "# Loading the dataset\n",
    "df = pd.read_csv('WA_Fn-UseC_-Telco-Customer-Churn.csv')\n",
    "df_original = df.copy()"
   ]
  },
  {
   "cell_type": "code",
   "execution_count": 4,
   "metadata": {},
   "outputs": [
    {
     "data": {
      "text/html": [
       "<div>\n",
       "<style scoped>\n",
       "    .dataframe tbody tr th:only-of-type {\n",
       "        vertical-align: middle;\n",
       "    }\n",
       "\n",
       "    .dataframe tbody tr th {\n",
       "        vertical-align: top;\n",
       "    }\n",
       "\n",
       "    .dataframe thead th {\n",
       "        text-align: right;\n",
       "    }\n",
       "</style>\n",
       "<table border=\"1\" class=\"dataframe\">\n",
       "  <thead>\n",
       "    <tr style=\"text-align: right;\">\n",
       "      <th></th>\n",
       "      <th>customerID</th>\n",
       "      <th>gender</th>\n",
       "      <th>SeniorCitizen</th>\n",
       "      <th>Partner</th>\n",
       "      <th>Dependents</th>\n",
       "      <th>tenure</th>\n",
       "      <th>PhoneService</th>\n",
       "      <th>MultipleLines</th>\n",
       "      <th>InternetService</th>\n",
       "      <th>OnlineSecurity</th>\n",
       "      <th>...</th>\n",
       "      <th>DeviceProtection</th>\n",
       "      <th>TechSupport</th>\n",
       "      <th>StreamingTV</th>\n",
       "      <th>StreamingMovies</th>\n",
       "      <th>Contract</th>\n",
       "      <th>PaperlessBilling</th>\n",
       "      <th>PaymentMethod</th>\n",
       "      <th>MonthlyCharges</th>\n",
       "      <th>TotalCharges</th>\n",
       "      <th>Churn</th>\n",
       "    </tr>\n",
       "  </thead>\n",
       "  <tbody>\n",
       "    <tr>\n",
       "      <th>0</th>\n",
       "      <td>7590-VHVEG</td>\n",
       "      <td>Female</td>\n",
       "      <td>0</td>\n",
       "      <td>Yes</td>\n",
       "      <td>No</td>\n",
       "      <td>1</td>\n",
       "      <td>No</td>\n",
       "      <td>No phone service</td>\n",
       "      <td>DSL</td>\n",
       "      <td>No</td>\n",
       "      <td>...</td>\n",
       "      <td>No</td>\n",
       "      <td>No</td>\n",
       "      <td>No</td>\n",
       "      <td>No</td>\n",
       "      <td>Month-to-month</td>\n",
       "      <td>Yes</td>\n",
       "      <td>Electronic check</td>\n",
       "      <td>29.85</td>\n",
       "      <td>29.85</td>\n",
       "      <td>No</td>\n",
       "    </tr>\n",
       "    <tr>\n",
       "      <th>1</th>\n",
       "      <td>5575-GNVDE</td>\n",
       "      <td>Male</td>\n",
       "      <td>0</td>\n",
       "      <td>No</td>\n",
       "      <td>No</td>\n",
       "      <td>34</td>\n",
       "      <td>Yes</td>\n",
       "      <td>No</td>\n",
       "      <td>DSL</td>\n",
       "      <td>Yes</td>\n",
       "      <td>...</td>\n",
       "      <td>Yes</td>\n",
       "      <td>No</td>\n",
       "      <td>No</td>\n",
       "      <td>No</td>\n",
       "      <td>One year</td>\n",
       "      <td>No</td>\n",
       "      <td>Mailed check</td>\n",
       "      <td>56.95</td>\n",
       "      <td>1889.5</td>\n",
       "      <td>No</td>\n",
       "    </tr>\n",
       "    <tr>\n",
       "      <th>2</th>\n",
       "      <td>3668-QPYBK</td>\n",
       "      <td>Male</td>\n",
       "      <td>0</td>\n",
       "      <td>No</td>\n",
       "      <td>No</td>\n",
       "      <td>2</td>\n",
       "      <td>Yes</td>\n",
       "      <td>No</td>\n",
       "      <td>DSL</td>\n",
       "      <td>Yes</td>\n",
       "      <td>...</td>\n",
       "      <td>No</td>\n",
       "      <td>No</td>\n",
       "      <td>No</td>\n",
       "      <td>No</td>\n",
       "      <td>Month-to-month</td>\n",
       "      <td>Yes</td>\n",
       "      <td>Mailed check</td>\n",
       "      <td>53.85</td>\n",
       "      <td>108.15</td>\n",
       "      <td>Yes</td>\n",
       "    </tr>\n",
       "    <tr>\n",
       "      <th>3</th>\n",
       "      <td>7795-CFOCW</td>\n",
       "      <td>Male</td>\n",
       "      <td>0</td>\n",
       "      <td>No</td>\n",
       "      <td>No</td>\n",
       "      <td>45</td>\n",
       "      <td>No</td>\n",
       "      <td>No phone service</td>\n",
       "      <td>DSL</td>\n",
       "      <td>Yes</td>\n",
       "      <td>...</td>\n",
       "      <td>Yes</td>\n",
       "      <td>Yes</td>\n",
       "      <td>No</td>\n",
       "      <td>No</td>\n",
       "      <td>One year</td>\n",
       "      <td>No</td>\n",
       "      <td>Bank transfer (automatic)</td>\n",
       "      <td>42.30</td>\n",
       "      <td>1840.75</td>\n",
       "      <td>No</td>\n",
       "    </tr>\n",
       "    <tr>\n",
       "      <th>4</th>\n",
       "      <td>9237-HQITU</td>\n",
       "      <td>Female</td>\n",
       "      <td>0</td>\n",
       "      <td>No</td>\n",
       "      <td>No</td>\n",
       "      <td>2</td>\n",
       "      <td>Yes</td>\n",
       "      <td>No</td>\n",
       "      <td>Fiber optic</td>\n",
       "      <td>No</td>\n",
       "      <td>...</td>\n",
       "      <td>No</td>\n",
       "      <td>No</td>\n",
       "      <td>No</td>\n",
       "      <td>No</td>\n",
       "      <td>Month-to-month</td>\n",
       "      <td>Yes</td>\n",
       "      <td>Electronic check</td>\n",
       "      <td>70.70</td>\n",
       "      <td>151.65</td>\n",
       "      <td>Yes</td>\n",
       "    </tr>\n",
       "  </tbody>\n",
       "</table>\n",
       "<p>5 rows × 21 columns</p>\n",
       "</div>"
      ],
      "text/plain": [
       "   customerID  gender  SeniorCitizen Partner Dependents  tenure PhoneService  \\\n",
       "0  7590-VHVEG  Female              0     Yes         No       1           No   \n",
       "1  5575-GNVDE    Male              0      No         No      34          Yes   \n",
       "2  3668-QPYBK    Male              0      No         No       2          Yes   \n",
       "3  7795-CFOCW    Male              0      No         No      45           No   \n",
       "4  9237-HQITU  Female              0      No         No       2          Yes   \n",
       "\n",
       "      MultipleLines InternetService OnlineSecurity  ... DeviceProtection  \\\n",
       "0  No phone service             DSL             No  ...               No   \n",
       "1                No             DSL            Yes  ...              Yes   \n",
       "2                No             DSL            Yes  ...               No   \n",
       "3  No phone service             DSL            Yes  ...              Yes   \n",
       "4                No     Fiber optic             No  ...               No   \n",
       "\n",
       "  TechSupport StreamingTV StreamingMovies        Contract PaperlessBilling  \\\n",
       "0          No          No              No  Month-to-month              Yes   \n",
       "1          No          No              No        One year               No   \n",
       "2          No          No              No  Month-to-month              Yes   \n",
       "3         Yes          No              No        One year               No   \n",
       "4          No          No              No  Month-to-month              Yes   \n",
       "\n",
       "               PaymentMethod MonthlyCharges  TotalCharges Churn  \n",
       "0           Electronic check          29.85         29.85    No  \n",
       "1               Mailed check          56.95        1889.5    No  \n",
       "2               Mailed check          53.85        108.15   Yes  \n",
       "3  Bank transfer (automatic)          42.30       1840.75    No  \n",
       "4           Electronic check          70.70        151.65   Yes  \n",
       "\n",
       "[5 rows x 21 columns]"
      ]
     },
     "execution_count": 4,
     "metadata": {},
     "output_type": "execute_result"
    }
   ],
   "source": [
    "df.head()"
   ]
  },
  {
   "attachments": {},
   "cell_type": "markdown",
   "metadata": {},
   "source": [
    "### Overview of the Dataset\n",
    "To gain an understanding of the dataset, we define a function called dataoveriew that provides an overview of the dataset, including the number of rows, number of features, feature names, missing values, and unique values."
   ]
  },
  {
   "cell_type": "code",
   "execution_count": 5,
   "metadata": {},
   "outputs": [
    {
     "name": "stdout",
     "output_type": "stream",
     "text": [
      "Overview of the dataset:n\n",
      "Number of rows:  7043\n",
      "nNumber of features: 21\n",
      "nData Features:\n",
      "['customerID', 'gender', 'SeniorCitizen', 'Partner', 'Dependents', 'tenure', 'PhoneService', 'MultipleLines', 'InternetService', 'OnlineSecurity', 'OnlineBackup', 'DeviceProtection', 'TechSupport', 'StreamingTV', 'StreamingMovies', 'Contract', 'PaperlessBilling', 'PaymentMethod', 'MonthlyCharges', 'TotalCharges', 'Churn']\n",
      "nMissing values: 0\n",
      "nUnique values:\n",
      "customerID          7043\n",
      "gender                 2\n",
      "SeniorCitizen          2\n",
      "Partner                2\n",
      "Dependents             2\n",
      "tenure                73\n",
      "PhoneService           2\n",
      "MultipleLines          3\n",
      "InternetService        3\n",
      "OnlineSecurity         3\n",
      "OnlineBackup           3\n",
      "DeviceProtection       3\n",
      "TechSupport            3\n",
      "StreamingTV            3\n",
      "StreamingMovies        3\n",
      "Contract               3\n",
      "PaperlessBilling       2\n",
      "PaymentMethod          4\n",
      "MonthlyCharges      1585\n",
      "TotalCharges        6531\n",
      "Churn                  2\n",
      "dtype: int64\n"
     ]
    }
   ],
   "source": [
    "pd.set_option('display.max_columns', None)\n",
    "\n",
    "import plotly.express as px #for visualization\n",
    "\n",
    "\n",
    "#Get overview of the data\n",
    "def dataoveriew(df, message):\n",
    "    print(f'{message}:n')\n",
    "    print('Number of rows: ', df.shape[0])\n",
    "    print(\"nNumber of features:\", df.shape[1])\n",
    "    print(\"nData Features:\")\n",
    "    print(df.columns.tolist())\n",
    "    print(\"nMissing values:\", df.isnull().sum().values.sum())\n",
    "    print(\"nUnique values:\")\n",
    "    print(df.nunique())\n",
    "\n",
    "dataoveriew(df, 'Overview of the dataset')"
   ]
  },
  {
   "cell_type": "code",
   "execution_count": 6,
   "metadata": {},
   "outputs": [
    {
     "data": {
      "text/plain": [
       "customerID           object\n",
       "gender               object\n",
       "SeniorCitizen         int64\n",
       "Partner              object\n",
       "Dependents           object\n",
       "tenure                int64\n",
       "PhoneService         object\n",
       "MultipleLines        object\n",
       "InternetService      object\n",
       "OnlineSecurity       object\n",
       "OnlineBackup         object\n",
       "DeviceProtection     object\n",
       "TechSupport          object\n",
       "StreamingTV          object\n",
       "StreamingMovies      object\n",
       "Contract             object\n",
       "PaperlessBilling     object\n",
       "PaymentMethod        object\n",
       "MonthlyCharges      float64\n",
       "TotalCharges         object\n",
       "Churn                object\n",
       "dtype: object"
      ]
     },
     "execution_count": 6,
     "metadata": {},
     "output_type": "execute_result"
    }
   ],
   "source": [
    "df.dtypes"
   ]
  },
  {
   "attachments": {},
   "cell_type": "markdown",
   "metadata": {},
   "source": [
    "### Handling Missing Values\n",
    "Next, we check for missing values in the dataset and handle them accordingly. In this case, we drop rows with missing values and convert the 'TotalCharges' column to numeric format, filling any missing values with the median value."
   ]
  },
  {
   "cell_type": "code",
   "execution_count": 7,
   "metadata": {},
   "outputs": [],
   "source": [
    "# Checking for missing values\n",
    "df.isnull().sum()\n",
    "\n",
    "# Handling missing values\n",
    "df = df.dropna()"
   ]
  },
  {
   "cell_type": "code",
   "execution_count": 8,
   "metadata": {},
   "outputs": [],
   "source": [
    "# It can be observed that the TotalCharges has an object data type which means that it contains string components.\n",
    "df['TotalCharges'] = pd.to_numeric(df['TotalCharges'], errors='coerce')\n",
    "# Fill the missing values with the median value\n",
    "df['TotalCharges'] = df['TotalCharges'].fillna(df['TotalCharges'].median())"
   ]
  },
  {
   "attachments": {},
   "cell_type": "markdown",
   "metadata": {},
   "source": [
    "### Exploratory Data Analysis (EDA)\n",
    "To gain insights into the data, we plot histograms for each numerical feature in the dataset."
   ]
  },
  {
   "cell_type": "code",
   "execution_count": 9,
   "metadata": {},
   "outputs": [
    {
     "data": {
      "text/plain": [
       "array([[<Axes: title={'center': 'SeniorCitizen'}>,\n",
       "        <Axes: title={'center': 'tenure'}>],\n",
       "       [<Axes: title={'center': 'MonthlyCharges'}>,\n",
       "        <Axes: title={'center': 'TotalCharges'}>]], dtype=object)"
      ]
     },
     "execution_count": 9,
     "metadata": {},
     "output_type": "execute_result"
    },
    {
     "data": {
      "image/png": "[encoded data removed]",
      "text/plain": [
       "<Figure size 640x480 with 4 Axes>"
      ]
     },
     "metadata": {},
     "output_type": "display_data"
    }
   ],
   "source": [
    "df.hist()"
   ]
  },
  {
   "attachments": {},
   "cell_type": "markdown",
   "metadata": {},
   "source": [
    "### Feature Encoding\n",
    "We encode the categorical features in the dataset using one-hot encoding for features with more than two categories and binary encoding for binary features."
   ]
  },
  {
   "cell_type": "code",
   "execution_count": 10,
   "metadata": {},
   "outputs": [],
   "source": [
    "# The customerID column isn't useful as the feature is used for identification of customers.\n",
    "df.drop([\"customerID\"], axis=1, inplace=True)\n",
    "\n",
    "# Encode categorical features\n",
    "\n",
    "# Defining the map function\n",
    "def binary_map(feature):\n",
    "    return feature.map({'Yes': 1, 'No': 0})\n",
    "\n",
    "# Encoding target feature\n",
    "df['Churn'] = df[['Churn']].apply(binary_map)\n",
    "\n",
    "# Encoding gender category\n",
    "df['gender'] = df['gender'].map({'Male': 1, 'Female': 0})\n",
    "\n",
    "# Encoding other binary categories\n",
    "binary_list = ['Partner', 'Dependents', 'PhoneService', 'PaperlessBilling']\n",
    "df[binary_list] = df[binary_list].apply(binary_map)\n",
    "\n",
    "# Encoding the other categorical features with more than two categories\n",
    "df = pd.get_dummies(df, drop_first=True)"
   ]
  },
  {
   "cell_type": "code",
   "execution_count": 11,
   "metadata": {},
   "outputs": [
    {
     "data": {
      "text/html": [
       "<div>\n",
       "<style scoped>\n",
       "    .dataframe tbody tr th:only-of-type {\n",
       "        vertical-align: middle;\n",
       "    }\n",
       "\n",
       "    .dataframe tbody tr th {\n",
       "        vertical-align: top;\n",
       "    }\n",
       "\n",
       "    .dataframe thead th {\n",
       "        text-align: right;\n",
       "    }\n",
       "</style>\n",
       "<table border=\"1\" class=\"dataframe\">\n",
       "  <thead>\n",
       "    <tr style=\"text-align: right;\">\n",
       "      <th></th>\n",
       "      <th>gender</th>\n",
       "      <th>SeniorCitizen</th>\n",
       "      <th>Partner</th>\n",
       "      <th>Dependents</th>\n",
       "      <th>tenure</th>\n",
       "      <th>PhoneService</th>\n",
       "      <th>PaperlessBilling</th>\n",
       "      <th>MonthlyCharges</th>\n",
       "      <th>TotalCharges</th>\n",
       "      <th>Churn</th>\n",
       "      <th>MultipleLines_No phone service</th>\n",
       "      <th>MultipleLines_Yes</th>\n",
       "      <th>InternetService_Fiber optic</th>\n",
       "      <th>InternetService_No</th>\n",
       "      <th>OnlineSecurity_No internet service</th>\n",
       "      <th>OnlineSecurity_Yes</th>\n",
       "      <th>OnlineBackup_No internet service</th>\n",
       "      <th>OnlineBackup_Yes</th>\n",
       "      <th>DeviceProtection_No internet service</th>\n",
       "      <th>DeviceProtection_Yes</th>\n",
       "      <th>TechSupport_No internet service</th>\n",
       "      <th>TechSupport_Yes</th>\n",
       "      <th>StreamingTV_No internet service</th>\n",
       "      <th>StreamingTV_Yes</th>\n",
       "      <th>StreamingMovies_No internet service</th>\n",
       "      <th>StreamingMovies_Yes</th>\n",
       "      <th>Contract_One year</th>\n",
       "      <th>Contract_Two year</th>\n",
       "      <th>PaymentMethod_Credit card (automatic)</th>\n",
       "      <th>PaymentMethod_Electronic check</th>\n",
       "      <th>PaymentMethod_Mailed check</th>\n",
       "    </tr>\n",
       "  </thead>\n",
       "  <tbody>\n",
       "    <tr>\n",
       "      <th>0</th>\n",
       "      <td>0</td>\n",
       "      <td>0</td>\n",
       "      <td>1</td>\n",
       "      <td>0</td>\n",
       "      <td>1</td>\n",
       "      <td>0</td>\n",
       "      <td>1</td>\n",
       "      <td>29.85</td>\n",
       "      <td>29.85</td>\n",
       "      <td>0</td>\n",
       "      <td>1</td>\n",
       "      <td>0</td>\n",
       "      <td>0</td>\n",
       "      <td>0</td>\n",
       "      <td>0</td>\n",
       "      <td>0</td>\n",
       "      <td>0</td>\n",
       "      <td>1</td>\n",
       "      <td>0</td>\n",
       "      <td>0</td>\n",
       "      <td>0</td>\n",
       "      <td>0</td>\n",
       "      <td>0</td>\n",
       "      <td>0</td>\n",
       "      <td>0</td>\n",
       "      <td>0</td>\n",
       "      <td>0</td>\n",
       "      <td>0</td>\n",
       "      <td>0</td>\n",
       "      <td>1</td>\n",
       "      <td>0</td>\n",
       "    </tr>\n",
       "    <tr>\n",
       "      <th>1</th>\n",
       "      <td>1</td>\n",
       "      <td>0</td>\n",
       "      <td>0</td>\n",
       "      <td>0</td>\n",
       "      <td>34</td>\n",
       "      <td>1</td>\n",
       "      <td>0</td>\n",
       "      <td>56.95</td>\n",
       "      <td>1889.50</td>\n",
       "      <td>0</td>\n",
       "      <td>0</td>\n",
       "      <td>0</td>\n",
       "      <td>0</td>\n",
       "      <td>0</td>\n",
       "      <td>0</td>\n",
       "      <td>1</td>\n",
       "      <td>0</td>\n",
       "      <td>0</td>\n",
       "      <td>0</td>\n",
       "      <td>1</td>\n",
       "      <td>0</td>\n",
       "      <td>0</td>\n",
       "      <td>0</td>\n",
       "      <td>0</td>\n",
       "      <td>0</td>\n",
       "      <td>0</td>\n",
       "      <td>1</td>\n",
       "      <td>0</td>\n",
       "      <td>0</td>\n",
       "      <td>0</td>\n",
       "      <td>1</td>\n",
       "    </tr>\n",
       "    <tr>\n",
       "      <th>2</th>\n",
       "      <td>1</td>\n",
       "      <td>0</td>\n",
       "      <td>0</td>\n",
       "      <td>0</td>\n",
       "      <td>2</td>\n",
       "      <td>1</td>\n",
       "      <td>1</td>\n",
       "      <td>53.85</td>\n",
       "      <td>108.15</td>\n",
       "      <td>1</td>\n",
       "      <td>0</td>\n",
       "      <td>0</td>\n",
       "      <td>0</td>\n",
       "      <td>0</td>\n",
       "      <td>0</td>\n",
       "      <td>1</td>\n",
       "      <td>0</td>\n",
       "      <td>1</td>\n",
       "      <td>0</td>\n",
       "      <td>0</td>\n",
       "      <td>0</td>\n",
       "      <td>0</td>\n",
       "      <td>0</td>\n",
       "      <td>0</td>\n",
       "      <td>0</td>\n",
       "      <td>0</td>\n",
       "      <td>0</td>\n",
       "      <td>0</td>\n",
       "      <td>0</td>\n",
       "      <td>0</td>\n",
       "      <td>1</td>\n",
       "    </tr>\n",
       "    <tr>\n",
       "      <th>3</th>\n",
       "      <td>1</td>\n",
       "      <td>0</td>\n",
       "      <td>0</td>\n",
       "      <td>0</td>\n",
       "      <td>45</td>\n",
       "      <td>0</td>\n",
       "      <td>0</td>\n",
       "      <td>42.30</td>\n",
       "      <td>1840.75</td>\n",
       "      <td>0</td>\n",
       "      <td>1</td>\n",
       "      <td>0</td>\n",
       "      <td>0</td>\n",
       "      <td>0</td>\n",
       "      <td>0</td>\n",
       "      <td>1</td>\n",
       "      <td>0</td>\n",
       "      <td>0</td>\n",
       "      <td>0</td>\n",
       "      <td>1</td>\n",
       "      <td>0</td>\n",
       "      <td>1</td>\n",
       "      <td>0</td>\n",
       "      <td>0</td>\n",
       "      <td>0</td>\n",
       "      <td>0</td>\n",
       "      <td>1</td>\n",
       "      <td>0</td>\n",
       "      <td>0</td>\n",
       "      <td>0</td>\n",
       "      <td>0</td>\n",
       "    </tr>\n",
       "    <tr>\n",
       "      <th>4</th>\n",
       "      <td>0</td>\n",
       "      <td>0</td>\n",
       "      <td>0</td>\n",
       "      <td>0</td>\n",
       "      <td>2</td>\n",
       "      <td>1</td>\n",
       "      <td>1</td>\n",
       "      <td>70.70</td>\n",
       "      <td>151.65</td>\n",
       "      <td>1</td>\n",
       "      <td>0</td>\n",
       "      <td>0</td>\n",
       "      <td>1</td>\n",
       "      <td>0</td>\n",
       "      <td>0</td>\n",
       "      <td>0</td>\n",
       "      <td>0</td>\n",
       "      <td>0</td>\n",
       "      <td>0</td>\n",
       "      <td>0</td>\n",
       "      <td>0</td>\n",
       "      <td>0</td>\n",
       "      <td>0</td>\n",
       "      <td>0</td>\n",
       "      <td>0</td>\n",
       "      <td>0</td>\n",
       "      <td>0</td>\n",
       "      <td>0</td>\n",
       "      <td>0</td>\n",
       "      <td>1</td>\n",
       "      <td>0</td>\n",
       "    </tr>\n",
       "  </tbody>\n",
       "</table>\n",
       "</div>"
      ],
      "text/plain": [
       "   gender  SeniorCitizen  Partner  Dependents  tenure  PhoneService  \\\n",
       "0       0              0        1           0       1             0   \n",
       "1       1              0        0           0      34             1   \n",
       "2       1              0        0           0       2             1   \n",
       "3       1              0        0           0      45             0   \n",
       "4       0              0        0           0       2             1   \n",
       "\n",
       "   PaperlessBilling  MonthlyCharges  TotalCharges  Churn  \\\n",
       "0                 1           29.85         29.85      0   \n",
       "1                 0           56.95       1889.50      0   \n",
       "2                 1           53.85        108.15      1   \n",
       "3                 0           42.30       1840.75      0   \n",
       "4                 1           70.70        151.65      1   \n",
       "\n",
       "   MultipleLines_No phone service  MultipleLines_Yes  \\\n",
       "0                               1                  0   \n",
       "1                               0                  0   \n",
       "2                               0                  0   \n",
       "3                               1                  0   \n",
       "4                               0                  0   \n",
       "\n",
       "   InternetService_Fiber optic  InternetService_No  \\\n",
       "0                            0                   0   \n",
       "1                            0                   0   \n",
       "2                            0                   0   \n",
       "3                            0                   0   \n",
       "4                            1                   0   \n",
       "\n",
       "   OnlineSecurity_No internet service  OnlineSecurity_Yes  \\\n",
       "0                                   0                   0   \n",
       "1                                   0                   1   \n",
       "2                                   0                   1   \n",
       "3                                   0                   1   \n",
       "4                                   0                   0   \n",
       "\n",
       "   OnlineBackup_No internet service  OnlineBackup_Yes  \\\n",
       "0                                 0                 1   \n",
       "1                                 0                 0   \n",
       "2                                 0                 1   \n",
       "3                                 0                 0   \n",
       "4                                 0                 0   \n",
       "\n",
       "   DeviceProtection_No internet service  DeviceProtection_Yes  \\\n",
       "0                                     0                     0   \n",
       "1                                     0                     1   \n",
       "2                                     0                     0   \n",
       "3                                     0                     1   \n",
       "4                                     0                     0   \n",
       "\n",
       "   TechSupport_No internet service  TechSupport_Yes  \\\n",
       "0                                0                0   \n",
       "1                                0                0   \n",
       "2                                0                0   \n",
       "3                                0                1   \n",
       "4                                0                0   \n",
       "\n",
       "   StreamingTV_No internet service  StreamingTV_Yes  \\\n",
       "0                                0                0   \n",
       "1                                0                0   \n",
       "2                                0                0   \n",
       "3                                0                0   \n",
       "4                                0                0   \n",
       "\n",
       "   StreamingMovies_No internet service  StreamingMovies_Yes  \\\n",
       "0                                    0                    0   \n",
       "1                                    0                    0   \n",
       "2                                    0                    0   \n",
       "3                                    0                    0   \n",
       "4                                    0                    0   \n",
       "\n",
       "   Contract_One year  Contract_Two year  \\\n",
       "0                  0                  0   \n",
       "1                  1                  0   \n",
       "2                  0                  0   \n",
       "3                  1                  0   \n",
       "4                  0                  0   \n",
       "\n",
       "   PaymentMethod_Credit card (automatic)  PaymentMethod_Electronic check  \\\n",
       "0                                      0                               1   \n",
       "1                                      0                               0   \n",
       "2                                      0                               0   \n",
       "3                                      0                               0   \n",
       "4                                      0                               1   \n",
       "\n",
       "   PaymentMethod_Mailed check  \n",
       "0                           0  \n",
       "1                           1  \n",
       "2                           1  \n",
       "3                           0  \n",
       "4                           0  "
      ]
     },
     "execution_count": 11,
     "metadata": {},
     "output_type": "execute_result"
    }
   ],
   "source": [
    "df.head()"
   ]
  },
  {
   "attachments": {},
   "cell_type": "markdown",
   "metadata": {},
   "source": [
    "### Data Scaling\n",
    "We perform feature scaling using the StandardScaler to ensure that all numerical features are on the same scale."
   ]
  },
  {
   "cell_type": "code",
   "execution_count": 12,
   "metadata": {},
   "outputs": [],
   "source": [
    "# StandardScaler\n",
    "\n",
    "scaler = StandardScaler()\n",
    "df[['tenure', 'MonthlyCharges', 'TotalCharges']] = scaler.fit_transform(df[['tenure', 'MonthlyCharges', 'TotalCharges']])"
   ]
  },
  {
   "attachments": {},
   "cell_type": "markdown",
   "metadata": {},
   "source": [
    "### Correlation to determine the importnace of feature and how they relate to each other"
   ]
  },
  {
   "cell_type": "code",
   "execution_count": 13,
   "metadata": {},
   "outputs": [
    {
     "data": {
      "application/vnd.plotly.v1+json": {
       "config": {
        "plotlyServerURL": "https://plot.ly"
       },
       "data": [
        {
         "coloraxis": "coloraxis",
         "hovertemplate": "x: %{x}<br>y: %{y}<br>color: %{z}<extra></extra>",
         "name": "0",
         "type": "heatmap",
         "x": [
          "gender",
          "SeniorCitizen",
          "Partner",
          "Dependents",
          "tenure",
          "PhoneService",
          "PaperlessBilling",
          "MonthlyCharges",
          "TotalCharges",
          "Churn",
          "MultipleLines_No phone service",
          "MultipleLines_Yes",
          "InternetService_Fiber optic",
          "InternetService_No",
          "OnlineSecurity_No internet service",
          "OnlineSecurity_Yes",
          "OnlineBackup_No internet service",
          "OnlineBackup_Yes",
          "DeviceProtection_No internet service",
          "DeviceProtection_Yes",
          "TechSupport_No internet service",
          "TechSupport_Yes",
          "StreamingTV_No internet service",
          "StreamingTV_Yes",
          "StreamingMovies_No internet service",
          "StreamingMovies_Yes",
          "Contract_One year",
          "Contract_Two year",
          "PaymentMethod_Credit card (automatic)",
          "PaymentMethod_Electronic check",
          "PaymentMethod_Mailed check"
         ],
         "xaxis": "x",
         "y": [
          "gender",
          "SeniorCitizen",
          "Partner",
          "Dependents",
          "tenure",
          "PhoneService",
          "PaperlessBilling",
          "MonthlyCharges",
          "TotalCharges",
          "Churn",
          "MultipleLines_No phone service",
          "MultipleLines_Yes",
          "InternetService_Fiber optic",
          "InternetService_No",
          "OnlineSecurity_No internet service",
          "OnlineSecurity_Yes",
          "OnlineBackup_No internet service",
          "OnlineBackup_Yes",
          "DeviceProtection_No internet service",
          "DeviceProtection_Yes",
          "TechSupport_No internet service",
          "TechSupport_Yes",
          "StreamingTV_No internet service",
          "StreamingTV_Yes",
          "StreamingMovies_No internet service",
          "StreamingMovies_Yes",
          "Contract_One year",
          "Contract_Two year",
          "PaymentMethod_Credit card (automatic)",
          "PaymentMethod_Electronic check",
          "PaymentMethod_Mailed check"
         ],
         "yaxis": "y",
         "z": [
          [
           1,
           -0.0018737116382607595,
           -0.0018080796617890192,
           0.010516611922734075,
           0.005106222619949805,
           -0.006487672136208101,
           -0.01175369122122214,
           -0.014569323728667165,
           -0.0000019219114486905667,
           -0.00861209507899784,
           0.006487672136208124,
           -0.008413655871516292,
           -0.011286442720116373,
           0.006025751154069689,
           0.006025751154069689,
           -0.01702079681395954,
           0.006025751154069689,
           -0.013773188729006038,
           0.006025751154069689,
           -0.0021045826513886733,
           0.006025751154069689,
           -0.009211760356587693,
           0.006025751154069689,
           -0.008392549998357628,
           0.006025751154069689,
           -0.010487356300500262,
           0.008025643075007327,
           -0.00369505080347658,
           0.0012147794729687872,
           0.0007521807011951171,
           0.013744173305346287
          ],
          [
           -0.0018737116382607595,
           1,
           0.01647865759741389,
           -0.2111850884939573,
           0.016566877681809315,
           0.008576401079279374,
           0.15652955931117266,
           0.22017333857627147,
           0.10265158978041379,
           0.15088932817647233,
           -0.008576401079279379,
           0.1429481747627617,
           0.2553377729551271,
           -0.18274172290672516,
           -0.18274172290672516,
           -0.03865270449719514,
           -0.18274172290672516,
           0.06657213514513476,
           -0.18274172290672516,
           0.05942849428693287,
           -0.18274172290672516,
           -0.06062459069356334,
           -0.18274172290672516,
           0.10537766784282361,
           -0.18274172290672516,
           0.12017625118896443,
           -0.04626244292701931,
           -0.11700001812504587,
           -0.024135372360318857,
           0.17171777869093563,
           -0.15347749042895986
          ],
          [
           -0.0018080796617890192,
           0.01647865759741389,
           1,
           0.4526762829294659,
           0.37969746116829356,
           0.017705663223971994,
           -0.014876622287891071,
           0.096847936256475,
           0.31836389541625054,
           -0.15044754495917623,
           -0.017705663223972053,
           0.14205707936228557,
           0.00030366541646427686,
           0.0006151650863897274,
           0.0006151650863897274,
           0.14310622750264382,
           0.0006151650863897274,
           0.14149801947228102,
           0.0006151650863897274,
           0.15378643563077854,
           0.0006151650863897274,
           0.119998869764316,
           0.0006151650863897274,
           0.1246658005649171,
           0.0006151650863897274,
           0.11741185447194485,
           0.08278330748148335,
           0.24809065453756396,
           0.08202919645732591,
           -0.08385168936271037,
           -0.09512485882293231
          ],
          [
           0.010516611922734075,
           -0.2111850884939573,
           0.4526762829294659,
           1,
           0.15971233121691794,
           -0.0017616785446837207,
           -0.11137722919364468,
           -0.11389023002193546,
           0.06359330494881076,
           -0.1642214015797254,
           0.0017616785446837517,
           -0.024525804414100526,
           -0.16581835875542192,
           0.1398118853116784,
           0.1398118853116784,
           0.08097166023248387,
           0.1398118853116784,
           0.02367101301051337,
           0.1398118853116784,
           0.013962535653790248,
           0.1398118853116784,
           0.06326814139965373,
           0.1398118853116784,
           -0.016557742951037433,
           0.1398118853116784,
           -0.03974096205892352,
           0.06836848043822047,
           0.20461344694774095,
           0.060267000176367644,
           -0.15064248847911277,
           0.059071012814667395
          ],
          [
           0.005106222619949805,
           0.016566877681809315,
           0.37969746116829356,
           0.15971233121691794,
           1,
           0.0084482067327437,
           0.006152481598271139,
           0.2478998562861503,
           0.8254640864073006,
           -0.3522286701130793,
           -0.008448206732743718,
           0.33194055560918706,
           0.01972036768675568,
           -0.03906198211042833,
           -0.03906198211042833,
           0.32720277316824464,
           -0.03906198211042833,
           0.36027698898467386,
           -0.03906198211042833,
           0.360652866932473,
           -0.03906198211042833,
           0.3242207719993647,
           -0.03906198211042833,
           0.27975608223591597,
           -0.03906198211042833,
           0.2861105877784611,
           0.20257047544941775,
           0.5585326708193884,
           0.23300552501250107,
           -0.20836250343948917,
           -0.23385205012387303
          ],
          [
           -0.006487672136208101,
           0.008576401079279374,
           0.017705663223971994,
           -0.0017616785446837207,
           0.0084482067327437,
           1,
           0.016504805732569586,
           0.24739796321413643,
           0.11301280856390702,
           0.011941980029003084,
           -1,
           0.2796899947429132,
           0.2899989345730813,
           0.17220876982805308,
           0.17220876982805308,
           -0.09289270011220854,
           0.17220876982805308,
           -0.052312242947635416,
           0.17220876982805308,
           -0.07122688671747505,
           0.17220876982805308,
           -0.09633961826825957,
           0.17220876982805308,
           -0.022573591794937113,
           0.17220876982805308,
           -0.03295889236478095,
           -0.0027906430986324718,
           0.0035189075685082,
           -0.007721160009099356,
           0.003061829845430062,
           -0.003318789543607568
          ],
          [
           -0.01175369122122214,
           0.15652955931117266,
           -0.014876622287891071,
           -0.11137722919364468,
           0.006152481598271139,
           0.016504805732569586,
           1,
           0.3521499677959874,
           0.1580545964094496,
           0.19182533166646878,
           -0.016504805732569572,
           0.16353017421292781,
           0.32685324851960407,
           -0.32101306523320894,
           -0.32101306523320894,
           -0.003635897148474229,
           -0.32101306523320894,
           0.12673537300697285,
           -0.32101306523320894,
           0.10379680498154166,
           -0.32101306523320894,
           0.03787990020728153,
           -0.32101306523320894,
           0.22384098246010223,
           -0.32101306523320894,
           0.21171599176513145,
           -0.051391159173446985,
           -0.14788875031016613,
           -0.013588829059284402,
           0.2088647554671869,
           -0.20539800518883697
          ],
          [
           -0.014569323728667165,
           0.22017333857627147,
           0.096847936256475,
           -0.11389023002193546,
           0.2478998562861503,
           0.24739796321413643,
           0.3521499677959874,
           1,
           0.6508643497230399,
           0.1933564222378467,
           -0.24739796321413632,
           0.49043396944002865,
           0.7870655284726761,
           -0.7635565582865709,
           -0.7635565582865709,
           0.2965941920005665,
           -0.7635565582865709,
           0.4417800943594721,
           -0.7635565582865709,
           0.4826920482732936,
           -0.7635565582865709,
           0.33830426422015364,
           -0.7635565582865709,
           0.6296031609781684,
           -0.7635565582865709,
           0.6274288843898588,
           0.004903839415022786,
           -0.07468085092684222,
           0.030550358072310175,
           0.2716246710861256,
           -0.37743731568410926
          ],
          [
           -0.0000019219114486905667,
           0.10265158978041379,
           0.31836389541625054,
           0.06359330494881076,
           0.8254640864073006,
           0.11301280856390702,
           0.1580545964094496,
           0.6508643497230399,
           1,
           -0.19903683186929208,
           -0.11301280856390698,
           0.4687054658101566,
           0.36104534906211566,
           -0.37470628305935477,
           -0.37470628305935477,
           0.4120914941224626,
           -0.37470628305935477,
           0.509606638706321,
           -0.37470628305935477,
           0.5223741313189968,
           -0.37470628305935477,
           0.43232921590991197,
           -0.37470628305935477,
           0.5152789138632667,
           -0.37470628305935477,
           0.519884411937352,
           0.17064867641091852,
           0.3562259491893956,
           0.18274455131617565,
           -0.05997088253092617,
           -0.29481427536828264
          ],
          [
           -0.00861209507899784,
           0.15088932817647233,
           -0.15044754495917623,
           -0.1642214015797254,
           -0.3522286701130793,
           0.011941980029003084,
           0.19182533166646878,
           0.1933564222378467,
           -0.19903683186929208,
           1,
           -0.011941980029003091,
           0.04010212769982612,
           0.3080197449448227,
           -0.22789044975609363,
           -0.22789044975609363,
           -0.17122629194855232,
           -0.22789044975609363,
           -0.08225486893814256,
           -0.22789044975609363,
           -0.06615979128028962,
           -0.22789044975609363,
           -0.16467355590159405,
           -0.22789044975609363,
           0.06322774611875735,
           -0.22789044975609363,
           0.06138154801518696,
           -0.1778200183499079,
           -0.30225346934965014,
           -0.1343017506626284,
           0.30191874901128496,
           -0.09168283858842928
          ],
          [
           0.006487672136208124,
           -0.008576401079279379,
           -0.017705663223972053,
           0.0017616785446837517,
           -0.008448206732743718,
           -1,
           -0.016504805732569572,
           -0.24739796321413632,
           -0.11301280856390698,
           -0.011941980029003091,
           1,
           -0.2796899947429131,
           -0.28999893457308146,
           -0.17220876982805303,
           -0.17220876982805303,
           0.09289270011220858,
           -0.17220876982805303,
           0.05231224294763558,
           -0.17220876982805303,
           0.07122688671747496,
           -0.17220876982805303,
           0.09633961826825937,
           -0.17220876982805303,
           0.02257359179493701,
           -0.17220876982805303,
           0.03295889236478096,
           0.0027906430986324444,
           -0.003518907568508176,
           0.007721160009099401,
           -0.0030618298454300526,
           0.003318789543607618
          ],
          [
           -0.008413655871516292,
           0.1429481747627617,
           0.14205707936228557,
           -0.024525804414100526,
           0.33194055560918706,
           0.2796899947429132,
           0.16353017421292781,
           0.49043396944002865,
           0.4687054658101566,
           0.04010212769982612,
           -0.2796899947429131,
           1,
           0.36608324961178895,
           -0.2105635237791302,
           -0.2105635237791302,
           0.098108139697264,
           -0.2105635237791302,
           0.2022370163204947,
           -0.2105635237791302,
           0.2011365325449602,
           -0.2105635237791302,
           0.1005713099857394,
           -0.2105635237791302,
           0.25715163510824723,
           -0.2105635237791302,
           0.25875149199377756,
           -0.0037935880457818437,
           0.10625270251960478,
           0.06004835777743554,
           0.08361817831666876,
           -0.22720630042805834
          ],
          [
           -0.011286442720116373,
           0.2553377729551271,
           0.00030366541646427686,
           -0.16581835875542192,
           0.01972036768675568,
           0.2899989345730813,
           0.32685324851960407,
           0.7870655284726761,
           0.36104534906211566,
           0.3080197449448227,
           -0.28999893457308146,
           0.36608324961178895,
           1,
           -0.46579271044600284,
           -0.46579271044600284,
           -0.030695710962352983,
           -0.46579271044600284,
           0.16565089083393228,
           -0.46579271044600284,
           0.17604889095154463,
           -0.46579271044600284,
           -0.0204924025005775,
           -0.46579271044600284,
           0.32934852591155733,
           -0.46579271044600284,
           0.32292269808482754,
           -0.07632409089469194,
           -0.21152603536967934,
           -0.050076655450446934,
           0.3364097780255869,
           -0.30683412957624884
          ],
          [
           0.006025751154069689,
           -0.18274172290672516,
           0.0006151650863897274,
           0.1398118853116784,
           -0.03906198211042833,
           0.17220876982805308,
           -0.32101306523320894,
           -0.7635565582865709,
           -0.37470628305935477,
           -0.22789044975609363,
           -0.17220876982805303,
           -0.2105635237791302,
           -0.46579271044600284,
           1,
           1,
           -0.3334027048964507,
           1,
           -0.38159329680772736,
           1,
           -0.38075433795295827,
           1,
           -0.33629828469845985,
           1,
           -0.41555189388029695,
           1,
           -0.41867507897021555,
           0.03800394241916658,
           0.2182782234096049,
           0.0010297293228974764,
           -0.2849166458500224,
           0.3213607323178355
          ],
          [
           0.006025751154069689,
           -0.18274172290672516,
           0.0006151650863897274,
           0.1398118853116784,
           -0.03906198211042833,
           0.17220876982805308,
           -0.32101306523320894,
           -0.7635565582865709,
           -0.37470628305935477,
           -0.22789044975609363,
           -0.17220876982805303,
           -0.2105635237791302,
           -0.46579271044600284,
           1,
           1,
           -0.3334027048964507,
           1,
           -0.38159329680772736,
           1,
           -0.38075433795295827,
           1,
           -0.33629828469845985,
           1,
           -0.41555189388029695,
           1,
           -0.41867507897021555,
           0.03800394241916658,
           0.2182782234096049,
           0.0010297293228974764,
           -0.2849166458500224,
           0.3213607323178355
          ],
          [
           -0.01702079681395954,
           -0.03865270449719514,
           0.14310622750264382,
           0.08097166023248387,
           0.32720277316824464,
           -0.09289270011220854,
           -0.003635897148474229,
           0.2965941920005665,
           0.4120914941224626,
           -0.17122629194855232,
           0.09289270011220858,
           0.098108139697264,
           -0.030695710962352983,
           -0.3334027048964507,
           -0.3334027048964507,
           1,
           -0.3334027048964506,
           0.2838322335327234,
           -0.3334027048964506,
           0.27543797874378695,
           -0.3334027048964506,
           0.3549307078927643,
           -0.3334027048964506,
           0.17620730704239432,
           -0.3334027048964506,
           0.18739833092624927,
           0.10016245689105185,
           0.1917733991520229,
           0.1157206551755544,
           -0.11233777625407043,
           -0.0807980537772009
          ],
          [
           0.006025751154069689,
           -0.18274172290672516,
           0.0006151650863897274,
           0.1398118853116784,
           -0.03906198211042833,
           0.17220876982805308,
           -0.32101306523320894,
           -0.7635565582865709,
           -0.37470628305935477,
           -0.22789044975609363,
           -0.17220876982805303,
           -0.2105635237791302,
           -0.46579271044600284,
           1,
           1,
           -0.3334027048964506,
           1,
           -0.38159329680772736,
           1,
           -0.38075433795295827,
           1,
           -0.33629828469845985,
           1,
           -0.41555189388029695,
           1,
           -0.41867507897021555,
           0.03800394241916658,
           0.2182782234096049,
           0.0010297293228974764,
           -0.2849166458500224,
           0.3213607323178355
          ],
          [
           -0.013773188729006038,
           0.06657213514513476,
           0.14149801947228102,
           0.02367101301051337,
           0.36027698898467386,
           -0.052312242947635416,
           0.12673537300697285,
           0.4417800943594721,
           0.509606638706321,
           -0.08225486893814256,
           0.05231224294763558,
           0.2022370163204947,
           0.16565089083393228,
           -0.38159329680772736,
           -0.38159329680772736,
           0.2838322335327234,
           -0.38159329680772736,
           1,
           -0.38159329680772736,
           0.3035462090113277,
           -0.38159329680772736,
           0.29423287840689494,
           -0.38159329680772736,
           0.28210642197177166,
           -0.38159329680772736,
           0.27450120196050104,
           0.08372237279771923,
           0.1113995950462178,
           0.09078478545257015,
           -0.0004077158725883254,
           -0.17416391693980943
          ],
          [
           0.006025751154069689,
           -0.18274172290672516,
           0.0006151650863897274,
           0.1398118853116784,
           -0.03906198211042833,
           0.17220876982805308,
           -0.32101306523320894,
           -0.7635565582865709,
           -0.37470628305935477,
           -0.22789044975609363,
           -0.17220876982805303,
           -0.2105635237791302,
           -0.46579271044600284,
           1,
           1,
           -0.3334027048964506,
           1,
           -0.38159329680772736,
           1,
           -0.38075433795295827,
           1,
           -0.33629828469845985,
           1,
           -0.41555189388029695,
           1,
           -0.41867507897021555,
           0.03800394241916658,
           0.2182782234096049,
           0.0010297293228974764,
           -0.2849166458500224,
           0.3213607323178355
          ],
          [
           -0.0021045826513886733,
           0.05942849428693287,
           0.15378643563077854,
           0.013962535653790248,
           0.360652866932473,
           -0.07122688671747505,
           0.10379680498154166,
           0.4826920482732936,
           0.5223741313189968,
           -0.06615979128028962,
           0.07122688671747496,
           0.2011365325449602,
           0.17604889095154463,
           -0.38075433795295827,
           -0.38075433795295827,
           0.27543797874378695,
           -0.38075433795295827,
           0.3035462090113277,
           -0.38075433795295827,
           1,
           -0.38075433795295827,
           0.33331256231543926,
           -0.38075433795295827,
           0.39087402691958434,
           -0.38075433795295827,
           0.4021105377661728,
           0.10249519931671615,
           0.1650963913142373,
           0.11155436356101238,
           -0.0033507734088713804,
           -0.1873734874635515
          ],
          [
           0.006025751154069689,
           -0.18274172290672516,
           0.0006151650863897274,
           0.1398118853116784,
           -0.03906198211042833,
           0.17220876982805308,
           -0.32101306523320894,
           -0.7635565582865709,
           -0.37470628305935477,
           -0.22789044975609363,
           -0.17220876982805303,
           -0.2105635237791302,
           -0.46579271044600284,
           1,
           1,
           -0.3334027048964506,
           1,
           -0.38159329680772736,
           1,
           -0.38075433795295827,
           1,
           -0.33629828469845985,
           1,
           -0.41555189388029695,
           1,
           -0.41867507897021555,
           0.03800394241916658,
           0.2182782234096049,
           0.0010297293228974764,
           -0.2849166458500224,
           0.3213607323178355
          ],
          [
           -0.009211760356587693,
           -0.06062459069356334,
           0.119998869764316,
           0.06326814139965373,
           0.3242207719993647,
           -0.09633961826825957,
           0.03787990020728153,
           0.33830426422015364,
           0.43232921590991197,
           -0.16467355590159405,
           0.09633961826825937,
           0.1005713099857394,
           -0.0204924025005775,
           -0.33629828469845985,
           -0.33629828469845985,
           0.3549307078927643,
           -0.33629828469845985,
           0.29423287840689494,
           -0.33629828469845985,
           0.33331256231543926,
           -0.33629828469845985,
           1,
           -0.33629828469845985,
           0.2780702036372557,
           -0.33629828469845985,
           0.27935847892842425,
           0.09577473766009513,
           0.24082355652920476,
           0.11727230654467367,
           -0.11483871499570028,
           -0.08550850677032883
          ],
          [
           0.006025751154069689,
           -0.18274172290672516,
           0.0006151650863897274,
           0.1398118853116784,
           -0.03906198211042833,
           0.17220876982805308,
           -0.32101306523320894,
           -0.7635565582865709,
           -0.37470628305935477,
           -0.22789044975609363,
           -0.17220876982805303,
           -0.2105635237791302,
           -0.46579271044600284,
           1,
           1,
           -0.3334027048964506,
           1,
           -0.38159329680772736,
           1,
           -0.38075433795295827,
           1,
           -0.33629828469845985,
           1,
           -0.41555189388029695,
           1,
           -0.41867507897021555,
           0.03800394241916658,
           0.2182782234096049,
           0.0010297293228974764,
           -0.2849166458500224,
           0.3213607323178355
          ],
          [
           -0.008392549998357628,
           0.10537766784282361,
           0.1246658005649171,
           -0.016557742951037433,
           0.27975608223591597,
           -0.022573591794937113,
           0.22384098246010223,
           0.6296031609781684,
           0.5152789138632667,
           0.06322774611875735,
           0.02257359179493701,
           0.25715163510824723,
           0.32934852591155733,
           -0.41555189388029695,
           -0.41555189388029695,
           0.17620730704239432,
           -0.41555189388029695,
           0.28210642197177166,
           -0.41555189388029695,
           0.39087402691958434,
           -0.41555189388029695,
           0.2780702036372557,
           -0.41555189388029695,
           1,
           -0.41555189388029695,
           0.5330938326943199,
           0.06161243382926111,
           0.0720490410206099,
           0.04043308035426147,
           0.14462638547453485,
           -0.24774242360741977
          ],
          [
           0.006025751154069689,
           -0.18274172290672516,
           0.0006151650863897274,
           0.1398118853116784,
           -0.03906198211042833,
           0.17220876982805308,
           -0.32101306523320894,
           -0.7635565582865709,
           -0.37470628305935477,
           -0.22789044975609363,
           -0.17220876982805303,
           -0.2105635237791302,
           -0.46579271044600284,
           1,
           1,
           -0.3334027048964506,
           1,
           -0.38159329680772736,
           1,
           -0.38075433795295827,
           1,
           -0.33629828469845985,
           1,
           -0.41555189388029695,
           1,
           -0.41867507897021555,
           0.03800394241916658,
           0.2182782234096049,
           0.0010297293228974764,
           -0.2849166458500224,
           0.3213607323178355
          ],
          [
           -0.010487356300500262,
           0.12017625118896443,
           0.11741185447194485,
           -0.03974096205892352,
           0.2861105877784611,
           -0.03295889236478095,
           0.21171599176513145,
           0.6274288843898588,
           0.519884411937352,
           0.06138154801518696,
           0.03295889236478096,
           0.25875149199377756,
           0.32292269808482754,
           -0.41867507897021555,
           -0.41867507897021555,
           0.18739833092624927,
           -0.41867507897021555,
           0.27450120196050104,
           -0.41867507897021555,
           0.4021105377661728,
           -0.41867507897021555,
           0.27935847892842425,
           -0.41867507897021555,
           0.5330938326943199,
           -0.41867507897021555,
           1,
           0.06492603542901956,
           0.07395984413698505,
           0.04857480053298374,
           0.13796637540690124,
           -0.2505954638083168
          ],
          [
           0.008025643075007327,
           -0.04626244292701931,
           0.08278330748148335,
           0.06836848043822047,
           0.20257047544941775,
           -0.0027906430986324718,
           -0.051391159173446985,
           0.004903839415022786,
           0.17064867641091852,
           -0.1778200183499079,
           0.0027906430986324444,
           -0.0037935880457818437,
           -0.07632409089469194,
           0.03800394241916658,
           0.03800394241916658,
           0.10016245689105185,
           0.03800394241916658,
           0.08372237279771923,
           0.03800394241916658,
           0.10249519931671615,
           0.03800394241916658,
           0.09577473766009513,
           0.03800394241916658,
           0.06161243382926111,
           0.03800394241916658,
           0.06492603542901956,
           1,
           -0.28950957234145225,
           0.06758941420686175,
           -0.10912981441493752,
           -0.0001162210619356373
          ],
          [
           -0.00369505080347658,
           -0.11700001812504587,
           0.24809065453756396,
           0.20461344694774095,
           0.5585326708193884,
           0.0035189075685082,
           -0.14788875031016613,
           -0.07468085092684222,
           0.3562259491893956,
           -0.30225346934965014,
           -0.003518907568508176,
           0.10625270251960478,
           -0.21152603536967934,
           0.2182782234096049,
           0.2182782234096049,
           0.1917733991520229,
           0.2182782234096049,
           0.1113995950462178,
           0.2182782234096049,
           0.1650963913142373,
           0.2182782234096049,
           0.24082355652920476,
           0.2182782234096049,
           0.0720490410206099,
           0.2182782234096049,
           0.07395984413698505,
           -0.28950957234145225,
           1,
           0.17326485242690484,
           -0.2821379770975387,
           -0.004704962197150832
          ],
          [
           0.0012147794729687872,
           -0.024135372360318857,
           0.08202919645732591,
           0.060267000176367644,
           0.23300552501250107,
           -0.007721160009099356,
           -0.013588829059284402,
           0.030550358072310175,
           0.18274455131617565,
           -0.1343017506626284,
           0.007721160009099401,
           0.06004835777743554,
           -0.050076655450446934,
           0.0010297293228974764,
           0.0010297293228974764,
           0.1157206551755544,
           0.0010297293228974764,
           0.09078478545257015,
           0.0010297293228974764,
           0.11155436356101238,
           0.0010297293228974764,
           0.11727230654467367,
           0.0010297293228974764,
           0.04043308035426147,
           0.0010297293228974764,
           0.04857480053298374,
           0.06758941420686175,
           0.17326485242690484,
           1,
           -0.3733222859365754,
           -0.28604941899078024
          ],
          [
           0.0007521807011951171,
           0.17171777869093563,
           -0.08385168936271037,
           -0.15064248847911277,
           -0.20836250343948917,
           0.003061829845430062,
           0.2088647554671869,
           0.2716246710861256,
           -0.05997088253092617,
           0.30191874901128496,
           -0.0030618298454300526,
           0.08361817831666876,
           0.3364097780255869,
           -0.2849166458500224,
           -0.2849166458500224,
           -0.11233777625407043,
           -0.2849166458500224,
           -0.0004077158725883254,
           -0.2849166458500224,
           -0.0033507734088713804,
           -0.2849166458500224,
           -0.11483871499570028,
           -0.2849166458500224,
           0.14462638547453485,
           -0.2849166458500224,
           0.13796637540690124,
           -0.10912981441493752,
           -0.2821379770975387,
           -0.3733222859365754,
           1,
           -0.3873718709062569
          ],
          [
           0.013744173305346287,
           -0.15347749042895986,
           -0.09512485882293231,
           0.059071012814667395,
           -0.23385205012387303,
           -0.003318789543607568,
           -0.20539800518883697,
           -0.37743731568410926,
           -0.29481427536828264,
           -0.09168283858842928,
           0.003318789543607618,
           -0.22720630042805834,
           -0.30683412957624884,
           0.3213607323178355,
           0.3213607323178355,
           -0.0807980537772009,
           0.3213607323178355,
           -0.17416391693980943,
           0.3213607323178355,
           -0.1873734874635515,
           0.3213607323178355,
           -0.08550850677032883,
           0.3213607323178355,
           -0.24774242360741977,
           0.3213607323178355,
           -0.2505954638083168,
           -0.0001162210619356373,
           -0.004704962197150832,
           -0.28604941899078024,
           -0.3873718709062569,
           1
          ]
         ]
        }
       ],
       "layout": {
        "coloraxis": {
         "colorscale": [
          [
           0,
           "#0d0887"
          ],
          [
           0.1111111111111111,
           "#46039f"
          ],
          [
           0.2222222222222222,
           "#7201a8"
          ],
          [
           0.3333333333333333,
           "#9c179e"
          ],
          [
           0.4444444444444444,
           "#bd3786"
          ],
          [
           0.5555555555555556,
           "#d8576b"
          ],
          [
           0.6666666666666666,
           "#ed7953"
          ],
          [
           0.7777777777777778,
           "#fb9f3a"
          ],
          [
           0.8888888888888888,
           "#fdca26"
          ],
          [
           1,
           "#f0f921"
          ]
         ]
        },
        "height": 1000,
        "margin": {
         "t": 60
        },
        "template": {
         "data": {
          "bar": [
           {
            "error_x": {
             "color": "#2a3f5f"
            },
            "error_y": {
             "color": "#2a3f5f"
            },
            "marker": {
             "line": {
              "color": "#E5ECF6",
              "width": 0.5
             },
             "pattern": {
              "fillmode": "overlay",
              "size": 10,
              "solidity": 0.2
             }
            },
            "type": "bar"
           }
          ],
          "barpolar": [
           {
            "marker": {
             "line": {
              "color": "#E5ECF6",
              "width": 0.5
             },
             "pattern": {
              "fillmode": "overlay",
              "size": 10,
              "solidity": 0.2
             }
            },
            "type": "barpolar"
           }
          ],
          "carpet": [
           {
            "aaxis": {
             "endlinecolor": "#2a3f5f",
             "gridcolor": "white",
             "linecolor": "white",
             "minorgridcolor": "white",
             "startlinecolor": "#2a3f5f"
            },
            "baxis": {
             "endlinecolor": "#2a3f5f",
             "gridcolor": "white",
             "linecolor": "white",
             "minorgridcolor": "white",
             "startlinecolor": "#2a3f5f"
            },
            "type": "carpet"
           }
          ],
          "choropleth": [
           {
            "colorbar": {
             "outlinewidth": 0,
             "ticks": ""
            },
            "type": "choropleth"
           }
          ],
          "contour": [
           {
            "colorbar": {
             "outlinewidth": 0,
             "ticks": ""
            },
            "colorscale": [
             [
              0,
              "#0d0887"
             ],
             [
              0.1111111111111111,
              "#46039f"
             ],
             [
              0.2222222222222222,
              "#7201a8"
             ],
             [
              0.3333333333333333,
              "#9c179e"
             ],
             [
              0.4444444444444444,
              "#bd3786"
             ],
             [
              0.5555555555555556,
              "#d8576b"
             ],
             [
              0.6666666666666666,
              "#ed7953"
             ],
             [
              0.7777777777777778,
              "#fb9f3a"
             ],
             [
              0.8888888888888888,
              "#fdca26"
             ],
             [
              1,
              "#f0f921"
             ]
            ],
            "type": "contour"
           }
          ],
          "contourcarpet": [
           {
            "colorbar": {
             "outlinewidth": 0,
             "ticks": ""
            },
            "type": "contourcarpet"
           }
          ],
          "heatmap": [
           {
            "colorbar": {
             "outlinewidth": 0,
             "ticks": ""
            },
            "colorscale": [
             [
              0,
              "#0d0887"
             ],
             [
              0.1111111111111111,
              "#46039f"
             ],
             [
              0.2222222222222222,
              "#7201a8"
             ],
             [
              0.3333333333333333,
              "#9c179e"
             ],
             [
              0.4444444444444444,
              "#bd3786"
             ],
             [
              0.5555555555555556,
              "#d8576b"
             ],
             [
              0.6666666666666666,
              "#ed7953"
             ],
             [
              0.7777777777777778,
              "#fb9f3a"
             ],
             [
              0.8888888888888888,
              "#fdca26"
             ],
             [
              1,
              "#f0f921"
             ]
            ],
            "type": "heatmap"
           }
          ],
          "heatmapgl": [
           {
            "colorbar": {
             "outlinewidth": 0,
             "ticks": ""
            },
            "colorscale": [
             [
              0,
              "#0d0887"
             ],
             [
              0.1111111111111111,
              "#46039f"
             ],
             [
              0.2222222222222222,
              "#7201a8"
             ],
             [
              0.3333333333333333,
              "#9c179e"
             ],
             [
              0.4444444444444444,
              "#bd3786"
             ],
             [
              0.5555555555555556,
              "#d8576b"
             ],
             [
              0.6666666666666666,
              "#ed7953"
             ],
             [
              0.7777777777777778,
              "#fb9f3a"
             ],
             [
              0.8888888888888888,
              "#fdca26"
             ],
             [
              1,
              "#f0f921"
             ]
            ],
            "type": "heatmapgl"
           }
          ],
          "histogram": [
           {
            "marker": {
             "pattern": {
              "fillmode": "overlay",
              "size": 10,
              "solidity": 0.2
             }
            },
            "type": "histogram"
           }
          ],
          "histogram2d": [
           {
            "colorbar": {
             "outlinewidth": 0,
             "ticks": ""
            },
            "colorscale": [
             [
              0,
              "#0d0887"
             ],
             [
              0.1111111111111111,
              "#46039f"
             ],
             [
              0.2222222222222222,
              "#7201a8"
             ],
             [
              0.3333333333333333,
              "#9c179e"
             ],
             [
              0.4444444444444444,
              "#bd3786"
             ],
             [
              0.5555555555555556,
              "#d8576b"
             ],
             [
              0.6666666666666666,
              "#ed7953"
             ],
             [
              0.7777777777777778,
              "#fb9f3a"
             ],
             [
              0.8888888888888888,
              "#fdca26"
             ],
             [
              1,
              "#f0f921"
             ]
            ],
            "type": "histogram2d"
           }
          ],
          "histogram2dcontour": [
           {
            "colorbar": {
             "outlinewidth": 0,
             "ticks": ""
            },
            "colorscale": [
             [
              0,
              "#0d0887"
             ],
             [
              0.1111111111111111,
              "#46039f"
             ],
             [
              0.2222222222222222,
              "#7201a8"
             ],
             [
              0.3333333333333333,
              "#9c179e"
             ],
             [
              0.4444444444444444,
              "#bd3786"
             ],
             [
              0.5555555555555556,
              "#d8576b"
             ],
             [
              0.6666666666666666,
              "#ed7953"
             ],
             [
              0.7777777777777778,
              "#fb9f3a"
             ],
             [
              0.8888888888888888,
              "#fdca26"
             ],
             [
              1,
              "#f0f921"
             ]
            ],
            "type": "histogram2dcontour"
           }
          ],
          "mesh3d": [
           {
            "colorbar": {
             "outlinewidth": 0,
             "ticks": ""
            },
            "type": "mesh3d"
           }
          ],
          "parcoords": [
           {
            "line": {
             "colorbar": {
              "outlinewidth": 0,
              "ticks": ""
             }
            },
            "type": "parcoords"
           }
          ],
          "pie": [
           {
            "automargin": true,
            "type": "pie"
           }
          ],
          "scatter": [
           {
            "fillpattern": {
             "fillmode": "overlay",
             "size": 10,
             "solidity": 0.2
            },
            "type": "scatter"
           }
          ],
          "scatter3d": [
           {
            "line": {
             "colorbar": {
              "outlinewidth": 0,
              "ticks": ""
             }
            },
            "marker": {
             "colorbar": {
              "outlinewidth": 0,
              "ticks": ""
             }
            },
            "type": "scatter3d"
           }
          ],
          "scattercarpet": [
           {
            "marker": {
             "colorbar": {
              "outlinewidth": 0,
              "ticks": ""
             }
            },
            "type": "scattercarpet"
           }
          ],
          "scattergeo": [
           {
            "marker": {
             "colorbar": {
              "outlinewidth": 0,
              "ticks": ""
             }
            },
            "type": "scattergeo"
           }
          ],
          "scattergl": [
           {
            "marker": {
             "colorbar": {
              "outlinewidth": 0,
              "ticks": ""
             }
            },
            "type": "scattergl"
           }
          ],
          "scattermapbox": [
           {
            "marker": {
             "colorbar": {
              "outlinewidth": 0,
              "ticks": ""
             }
            },
            "type": "scattermapbox"
           }
          ],
          "scatterpolar": [
           {
            "marker": {
             "colorbar": {
              "outlinewidth": 0,
              "ticks": ""
             }
            },
            "type": "scatterpolar"
           }
          ],
          "scatterpolargl": [
           {
            "marker": {
             "colorbar": {
              "outlinewidth": 0,
              "ticks": ""
             }
            },
            "type": "scatterpolargl"
           }
          ],
          "scatterternary": [
           {
            "marker": {
             "colorbar": {
              "outlinewidth": 0,
              "ticks": ""
             }
            },
            "type": "scatterternary"
           }
          ],
          "surface": [
           {
            "colorbar": {
             "outlinewidth": 0,
             "ticks": ""
            },
            "colorscale": [
             [
              0,
              "#0d0887"
             ],
             [
              0.1111111111111111,
              "#46039f"
             ],
             [
              0.2222222222222222,
              "#7201a8"
             ],
             [
              0.3333333333333333,
              "#9c179e"
             ],
             [
              0.4444444444444444,
              "#bd3786"
             ],
             [
              0.5555555555555556,
              "#d8576b"
             ],
             [
              0.6666666666666666,
              "#ed7953"
             ],
             [
              0.7777777777777778,
              "#fb9f3a"
             ],
             [
              0.8888888888888888,
              "#fdca26"
             ],
             [
              1,
              "#f0f921"
             ]
            ],
            "type": "surface"
           }
          ],
          "table": [
           {
            "cells": {
             "fill": {
              "color": "#EBF0F8"
             },
             "line": {
              "color": "white"
             }
            },
            "header": {
             "fill": {
              "color": "#C8D4E3"
             },
             "line": {
              "color": "white"
             }
            },
            "type": "table"
           }
          ]
         },
         "layout": {
          "annotationdefaults": {
           "arrowcolor": "#2a3f5f",
           "arrowhead": 0,
           "arrowwidth": 1
          },
          "autotypenumbers": "strict",
          "coloraxis": {
           "colorbar": {
            "outlinewidth": 0,
            "ticks": ""
           }
          },
          "colorscale": {
           "diverging": [
            [
             0,
             "#8e0152"
            ],
            [
             0.1,
             "#c51b7d"
            ],
            [
             0.2,
             "#de77ae"
            ],
            [
             0.3,
             "#f1b6da"
            ],
            [
             0.4,
             "#fde0ef"
            ],
            [
             0.5,
             "#f7f7f7"
            ],
            [
             0.6,
             "#e6f5d0"
            ],
            [
             0.7,
             "#b8e186"
            ],
            [
             0.8,
             "#7fbc41"
            ],
            [
             0.9,
             "#4d9221"
            ],
            [
             1,
             "#276419"
            ]
           ],
           "sequential": [
            [
             0,
             "#0d0887"
            ],
            [
             0.1111111111111111,
             "#46039f"
            ],
            [
             0.2222222222222222,
             "#7201a8"
            ],
            [
             0.3333333333333333,
             "#9c179e"
            ],
            [
             0.4444444444444444,
             "#bd3786"
            ],
            [
             0.5555555555555556,
             "#d8576b"
            ],
            [
             0.6666666666666666,
             "#ed7953"
            ],
            [
             0.7777777777777778,
             "#fb9f3a"
            ],
            [
             0.8888888888888888,
             "#fdca26"
            ],
            [
             1,
             "#f0f921"
            ]
           ],
           "sequentialminus": [
            [
             0,
             "#0d0887"
            ],
            [
             0.1111111111111111,
             "#46039f"
            ],
            [
             0.2222222222222222,
             "#7201a8"
            ],
            [
             0.3333333333333333,
             "#9c179e"
            ],
            [
             0.4444444444444444,
             "#bd3786"
            ],
            [
             0.5555555555555556,
             "#d8576b"
            ],
            [
             0.6666666666666666,
             "#ed7953"
            ],
            [
             0.7777777777777778,
             "#fb9f3a"
            ],
            [
             0.8888888888888888,
             "#fdca26"
            ],
            [
             1,
             "#f0f921"
            ]
           ]
          },
          "colorway": [
           "#636efa",
           "#EF553B",
           "#00cc96",
           "#ab63fa",
           "#FFA15A",
           "#19d3f3",
           "#FF6692",
           "#B6E880",
           "#FF97FF",
           "#FECB52"
          ],
          "font": {
           "color": "#2a3f5f"
          },
          "geo": {
           "bgcolor": "white",
           "lakecolor": "white",
           "landcolor": "#E5ECF6",
           "showlakes": true,
           "showland": true,
           "subunitcolor": "white"
          },
          "hoverlabel": {
           "align": "left"
          },
          "hovermode": "closest",
          "mapbox": {
           "style": "light"
          },
          "paper_bgcolor": "white",
          "plot_bgcolor": "#E5ECF6",
          "polar": {
           "angularaxis": {
            "gridcolor": "white",
            "linecolor": "white",
            "ticks": ""
           },
           "bgcolor": "#E5ECF6",
           "radialaxis": {
            "gridcolor": "white",
            "linecolor": "white",
            "ticks": ""
           }
          },
          "scene": {
           "xaxis": {
            "backgroundcolor": "#E5ECF6",
            "gridcolor": "white",
            "gridwidth": 2,
            "linecolor": "white",
            "showbackground": true,
            "ticks": "",
            "zerolinecolor": "white"
           },
           "yaxis": {
            "backgroundcolor": "#E5ECF6",
            "gridcolor": "white",
            "gridwidth": 2,
            "linecolor": "white",
            "showbackground": true,
            "ticks": "",
            "zerolinecolor": "white"
           },
           "zaxis": {
            "backgroundcolor": "#E5ECF6",
            "gridcolor": "white",
            "gridwidth": 2,
            "linecolor": "white",
            "showbackground": true,
            "ticks": "",
            "zerolinecolor": "white"
           }
          },
          "shapedefaults": {
           "line": {
            "color": "#2a3f5f"
           }
          },
          "ternary": {
           "aaxis": {
            "gridcolor": "white",
            "linecolor": "white",
            "ticks": ""
           },
           "baxis": {
            "gridcolor": "white",
            "linecolor": "white",
            "ticks": ""
           },
           "bgcolor": "#E5ECF6",
           "caxis": {
            "gridcolor": "white",
            "linecolor": "white",
            "ticks": ""
           }
          },
          "title": {
           "x": 0.05
          },
          "xaxis": {
           "automargin": true,
           "gridcolor": "white",
           "linecolor": "white",
           "ticks": "",
           "title": {
            "standoff": 15
           },
           "zerolinecolor": "white",
           "zerolinewidth": 2
          },
          "yaxis": {
           "automargin": true,
           "gridcolor": "white",
           "linecolor": "white",
           "ticks": "",
           "title": {
            "standoff": 15
           },
           "zerolinecolor": "white",
           "zerolinewidth": 2
          }
         }
        },
        "width": 1000,
        "xaxis": {
         "anchor": "y",
         "constrain": "domain",
         "domain": [
          0,
          1
         ],
         "scaleanchor": "y"
        },
        "yaxis": {
         "anchor": "x",
         "autorange": "reversed",
         "constrain": "domain",
         "domain": [
          0,
          1
         ]
        }
       }
      }
     },
     "metadata": {},
     "output_type": "display_data"
    }
   ],
   "source": [
    "corr = df.corr()\n",
    "fig = px.imshow(corr,width=1000, height=1000)\n",
    "fig.show()"
   ]
  },
  {
   "attachments": {},
   "cell_type": "markdown",
   "metadata": {},
   "source": [
    "### Splitting the Dataset\n",
    "We split the dataset into training and testing sets using the train_test_split function from scikit-learn."
   ]
  },
  {
   "cell_type": "code",
   "execution_count": 14,
   "metadata": {},
   "outputs": [],
   "source": [
    "# Splitting the dataset into training and testing sets\n",
    "X = df.drop(['Churn'], axis=1)\n",
    "y = df['Churn']\n",
    "\n",
    "X_train, X_test, y_train, y_test = train_test_split(X, y, test_size=0.2, random_state=42)"
   ]
  },
  {
   "attachments": {},
   "cell_type": "markdown",
   "metadata": {},
   "source": [
    "### Model Training & Model Evaluation\n",
    "We evaluate the performance of multiple machine learning models, including Logistic Regression, Decision Tree, Random Forest, Naive Bayes, and Support Vector Machine (SVM). We use accuracy, confusion matrix, and classification report as evaluation metrics."
   ]
  },
  {
   "cell_type": "code",
   "execution_count": 15,
   "metadata": {},
   "outputs": [],
   "source": [
    "from sklearn.metrics import accuracy_score, precision_score, recall_score, f1_score\n",
    "\n",
    "def modeling(alg, alg_name, params={}):\n",
    "    model = alg(**params) #Instantiating the algorithm class and unpacking parameters if any\n",
    "    model.fit(X_train, y_train)\n",
    "    y_pred = model.predict(X_test)\n",
    "\n",
    "    #Performance evaluation\n",
    "    def print_scores(alg, y_true, y_pred):\n",
    "        print(alg_name)\n",
    "        acc_score = accuracy_score(y_true, y_pred)\n",
    "        print(\"accuracy: \",acc_score)\n",
    "     \n",
    "        confusion = confusion_matrix(y_test, y_pred)\n",
    "        print('Confusion Matrix:\\n', confusion)\n",
    "        report = classification_report(y_test, y_pred)\n",
    "        print('Classification Report:\\n', report)\n",
    "\n",
    "    print_scores(alg, y_test, y_pred)\n",
    "    return model"
   ]
  },
  {
   "cell_type": "code",
   "execution_count": 16,
   "metadata": {},
   "outputs": [
    {
     "name": "stdout",
     "output_type": "stream",
     "text": [
      "Logistic Regression\n",
      "accuracy:  0.8211497515968772\n",
      "Confusion Matrix:\n",
      " [[934 102]\n",
      " [150 223]]\n",
      "Classification Report:\n",
      "               precision    recall  f1-score   support\n",
      "\n",
      "           0       0.86      0.90      0.88      1036\n",
      "           1       0.69      0.60      0.64       373\n",
      "\n",
      "    accuracy                           0.82      1409\n",
      "   macro avg       0.77      0.75      0.76      1409\n",
      "weighted avg       0.82      0.82      0.82      1409\n",
      "\n"
     ]
    }
   ],
   "source": [
    "log_model = modeling(LogisticRegression, 'Logistic Regression')"
   ]
  },
  {
   "cell_type": "code",
   "execution_count": 17,
   "metadata": {},
   "outputs": [
    {
     "name": "stdout",
     "output_type": "stream",
     "text": [
      "SVC Classification\n",
      "accuracy:  0.8140525195173882\n",
      "Confusion Matrix:\n",
      " [[953  83]\n",
      " [179 194]]\n",
      "Classification Report:\n",
      "               precision    recall  f1-score   support\n",
      "\n",
      "           0       0.84      0.92      0.88      1036\n",
      "           1       0.70      0.52      0.60       373\n",
      "\n",
      "    accuracy                           0.81      1409\n",
      "   macro avg       0.77      0.72      0.74      1409\n",
      "weighted avg       0.80      0.81      0.80      1409\n",
      "\n"
     ]
    }
   ],
   "source": [
    "svc_model = modeling(SVC, 'SVC Classification')"
   ]
  },
  {
   "cell_type": "code",
   "execution_count": 18,
   "metadata": {},
   "outputs": [
    {
     "name": "stdout",
     "output_type": "stream",
     "text": [
      "Random Forest Classification\n",
      "accuracy:  0.794180269694819\n",
      "Confusion Matrix:\n",
      " [[951  85]\n",
      " [205 168]]\n",
      "Classification Report:\n",
      "               precision    recall  f1-score   support\n",
      "\n",
      "           0       0.82      0.92      0.87      1036\n",
      "           1       0.66      0.45      0.54       373\n",
      "\n",
      "    accuracy                           0.79      1409\n",
      "   macro avg       0.74      0.68      0.70      1409\n",
      "weighted avg       0.78      0.79      0.78      1409\n",
      "\n"
     ]
    }
   ],
   "source": [
    "rf_model = modeling(RandomForestClassifier, \"Random Forest Classification\")"
   ]
  },
  {
   "cell_type": "code",
   "execution_count": 19,
   "metadata": {},
   "outputs": [
    {
     "name": "stdout",
     "output_type": "stream",
     "text": [
      "Decision Tree Classification\n",
      "accuracy:  0.7260468417317246\n",
      "Confusion Matrix:\n",
      " [[844 192]\n",
      " [194 179]]\n",
      "Classification Report:\n",
      "               precision    recall  f1-score   support\n",
      "\n",
      "           0       0.81      0.81      0.81      1036\n",
      "           1       0.48      0.48      0.48       373\n",
      "\n",
      "    accuracy                           0.73      1409\n",
      "   macro avg       0.65      0.65      0.65      1409\n",
      "weighted avg       0.73      0.73      0.73      1409\n",
      "\n"
     ]
    }
   ],
   "source": [
    "dt_model = modeling(DecisionTreeClassifier, \"Decision Tree Classification\")"
   ]
  },
  {
   "cell_type": "code",
   "execution_count": 20,
   "metadata": {},
   "outputs": [
    {
     "name": "stdout",
     "output_type": "stream",
     "text": [
      "Naive Bayes Classification\n",
      "accuracy:  0.6657203690560681\n",
      "Confusion Matrix:\n",
      " [[605 431]\n",
      " [ 40 333]]\n",
      "Classification Report:\n",
      "               precision    recall  f1-score   support\n",
      "\n",
      "           0       0.94      0.58      0.72      1036\n",
      "           1       0.44      0.89      0.59       373\n",
      "\n",
      "    accuracy                           0.67      1409\n",
      "   macro avg       0.69      0.74      0.65      1409\n",
      "weighted avg       0.81      0.67      0.68      1409\n",
      "\n"
     ]
    }
   ],
   "source": [
    "nb_model = modeling(GaussianNB, \"Naive Bayes Classification\")"
   ]
  },
  {
   "cell_type": "code",
   "execution_count": 21,
   "metadata": {},
   "outputs": [
    {
     "name": "stdout",
     "output_type": "stream",
     "text": [
      "Best Parameters:  {'C': 10, 'gamma': 0.001, 'kernel': 'rbf'}\n",
      "Best Accuracy:  0.7987223030381354\n",
      "Test Accuracy:  0.8232789212207239\n"
     ]
    }
   ],
   "source": [
    "from sklearn.model_selection import GridSearchCV\n",
    "param_grid = {\n",
    "    'C': [0.1, 1, 10],\n",
    "    'kernel': ['linear', 'rbf'],\n",
    "    'gamma': [0.1, 0.01, 0.001]\n",
    "}\n",
    "\n",
    "# Create an SVC object\n",
    "svc = SVC()\n",
    "\n",
    "# Perform grid search with cross-validation\n",
    "grid_search = GridSearchCV(estimator=svc, param_grid=param_grid, cv=5)\n",
    "grid_search.fit(X_train, y_train)\n",
    "\n",
    "# Print the best parameters and the corresponding accuracy\n",
    "print(\"Best Parameters: \", grid_search.best_params_)\n",
    "print(\"Best Accuracy: \", grid_search.best_score_)\n",
    "\n",
    "# Evaluate the model on the testing set\n",
    "accuracy = grid_search.score(X_test, y_test)\n",
    "print(\"Test Accuracy: \", accuracy)"
   ]
  },
  {
   "attachments": {},
   "cell_type": "markdown",
   "metadata": {},
   "source": [
    "### Deep Learning Model\n",
    "Additionally, we create a deep learning model using Keras. The model has multiple dense layers with dropout regularization to prevent overfitting."
   ]
  },
  {
   "cell_type": "code",
   "execution_count": 22,
   "metadata": {},
   "outputs": [
    {
     "name": "stdout",
     "output_type": "stream",
     "text": [
      "Epoch 1/20\n",
      "177/177 [==============================] - 1s 2ms/step - loss: 0.4601 - accuracy: 0.7762\n",
      "Epoch 2/20\n",
      "177/177 [==============================] - 0s 1ms/step - loss: 0.4381 - accuracy: 0.7943\n",
      "Epoch 3/20\n",
      "177/177 [==============================] - 0s 2ms/step - loss: 0.4293 - accuracy: 0.7989\n",
      "Epoch 4/20\n",
      "177/177 [==============================] - 0s 2ms/step - loss: 0.4225 - accuracy: 0.8001\n",
      "Epoch 5/20\n",
      "177/177 [==============================] - 0s 2ms/step - loss: 0.4246 - accuracy: 0.7993\n",
      "Epoch 6/20\n",
      "177/177 [==============================] - 0s 2ms/step - loss: 0.4205 - accuracy: 0.8009\n",
      "Epoch 7/20\n",
      "177/177 [==============================] - 0s 2ms/step - loss: 0.4181 - accuracy: 0.8030\n",
      "Epoch 8/20\n",
      "177/177 [==============================] - 0s 2ms/step - loss: 0.4169 - accuracy: 0.8046\n",
      "Epoch 9/20\n",
      "177/177 [==============================] - 0s 2ms/step - loss: 0.4148 - accuracy: 0.8053\n",
      "Epoch 10/20\n",
      "177/177 [==============================] - 0s 2ms/step - loss: 0.4093 - accuracy: 0.8099\n",
      "Epoch 11/20\n",
      "177/177 [==============================] - 0s 2ms/step - loss: 0.4123 - accuracy: 0.8058\n",
      "Epoch 12/20\n",
      "177/177 [==============================] - 0s 2ms/step - loss: 0.4100 - accuracy: 0.8019\n",
      "Epoch 13/20\n",
      "177/177 [==============================] - 0s 2ms/step - loss: 0.4074 - accuracy: 0.8083\n",
      "Epoch 14/20\n",
      "177/177 [==============================] - 0s 1ms/step - loss: 0.4069 - accuracy: 0.8097\n",
      "Epoch 15/20\n",
      "177/177 [==============================] - 0s 2ms/step - loss: 0.4056 - accuracy: 0.8076\n",
      "Epoch 16/20\n",
      "177/177 [==============================] - 0s 2ms/step - loss: 0.4026 - accuracy: 0.8097\n",
      "Epoch 17/20\n",
      "177/177 [==============================] - 0s 2ms/step - loss: 0.4001 - accuracy: 0.8119\n",
      "Epoch 18/20\n",
      "177/177 [==============================] - 0s 2ms/step - loss: 0.3997 - accuracy: 0.8092\n",
      "Epoch 19/20\n",
      "177/177 [==============================] - 0s 2ms/step - loss: 0.3966 - accuracy: 0.8122\n",
      "Epoch 20/20\n",
      "177/177 [==============================] - 0s 2ms/step - loss: 0.3922 - accuracy: 0.8131\n",
      "45/45 [==============================] - 0s 1ms/step - loss: 0.4080 - accuracy: 0.8084\n",
      "Test Accuracy: 0.8083747625350952\n"
     ]
    }
   ],
   "source": [
    "# Creating a deep learning model using TensorFlow\n",
    "model = tf.keras.models.Sequential([\n",
    "    Dense(128, activation='relu', input_shape=(X_train.shape[1],)),\n",
    "    Dropout(0.3),\n",
    "    Dense(64, activation='relu'),\n",
    "    Dropout(0.2),\n",
    "    Dense(64, activation='relu'),\n",
    "    Dense(1, activation='sigmoid')\n",
    "])\n",
    "model.compile(optimizer='adam', loss='binary_crossentropy', metrics=['accuracy'])\n",
    "model.fit(X_train, y_train, epochs=20)\n",
    "\n",
    "# Evaluating the model on the testing data\n",
    "test_loss, test_acc = model.evaluate(X_test, y_test)\n",
    "print('Test Accuracy:', test_acc)"
   ]
  },
  {
   "attachments": {},
   "cell_type": "markdown",
   "metadata": {},
   "source": [
    "This code provides a comprehensive analysis of the Telco Customer Churn dataset, including data overview, handling missing values, exploratory data analysis, feature encoding, data scaling, model evaluation using various machine learning models, and a deep learning model."
   ]
  },
  {
   "attachments": {},
   "cell_type": "markdown",
   "metadata": {},
   "source": [
    "### XGBoost\n"
   ]
  },
  {
   "cell_type": "code",
   "execution_count": 23,
   "metadata": {},
   "outputs": [
    {
     "name": "stdout",
     "output_type": "stream",
     "text": [
      "Accuracy: 80.70%\n"
     ]
    }
   ],
   "source": [
    "from xgboost import XGBClassifier\n",
    "xgboost = XGBClassifier(max_depth=3, learning_rate=0.1, n_estimators=500, objective='binary:logistic', booster='gbtree')\n",
    "\n",
    "xgboost.fit(X_train, y_train)\n",
    "\n",
    "# make predictions for test data\n",
    "y_pred = xgboost.predict(X_test)\n",
    "predictions = [round(value) for value in y_pred]\n",
    "\n",
    "# evaluate predictions\n",
    "accuracy = accuracy_score(y_test, predictions)\n",
    "print(\"Accuracy: %.2f%%\" % (accuracy * 100.0))"
   ]
  },
  {
   "attachments": {},
   "cell_type": "markdown",
   "metadata": {},
   "source": [
    "### AdaBoost"
   ]
  },
  {
   "cell_type": "code",
   "execution_count": 24,
   "metadata": {},
   "outputs": [
    {
     "name": "stdout",
     "output_type": "stream",
     "text": [
      "Accuracy: 81.83%\n"
     ]
    }
   ],
   "source": [
    "from sklearn.ensemble import AdaBoostClassifier\n",
    "\n",
    "adaboost = AdaBoostClassifier(n_estimators=100, learning_rate=1, random_state=1)\n",
    "\n",
    "adaboost.fit(X_train,y_train)\n",
    "y_pred = adaboost.predict(X_test)\n",
    "\n",
    "accuracy = accuracy_score(y_test, y_pred)\n",
    "print(\"Accuracy: %.2f%%\" % (accuracy * 100.0))\n"
   ]
  },
  {
   "attachments": {},
   "cell_type": "markdown",
   "metadata": {},
   "source": [
    "### Bagging"
   ]
  },
  {
   "cell_type": "code",
   "execution_count": 25,
   "metadata": {},
   "outputs": [
    {
     "name": "stdout",
     "output_type": "stream",
     "text": [
      "Accuracy: 77.36%\n"
     ]
    }
   ],
   "source": [
    "from sklearn.ensemble import BaggingClassifier\n",
    "\n",
    "bagging = BaggingClassifier(base_estimator=None, n_estimators=10, max_samples=1.0, max_features=1.0, bootstrap=True, bootstrap_features=False, oob_score=False, warm_start=False, n_jobs=None, random_state=None, verbose=0)\n",
    "bagging.fit(X_train,y_train)\n",
    "y_pred = bagging.predict(X_test)\n",
    "accuracy = accuracy_score(y_test, y_pred)\n",
    "print(\"Accuracy: %.2f%%\" % (accuracy * 100.0))\n"
   ]
  },
  {
   "cell_type": "code",
   "execution_count": null,
   "metadata": {},
   "outputs": [],
   "source": [
    "param_grid = {\n",
    "    'units': [64, 128, 256],\n",
    "    'activation': ['relu', 'sigmoid'],\n",
    "    'optimizer': ['adam', 'sgd'],\n",
    "    'epochs': [10, 20, 30]\n",
    "}\n",
    "\n",
    "# Create a function to build the deep learning model\n",
    "def build_model(units, activation, optimizer):\n",
    "    model = Sequential()\n",
    "    model.add(Dense(units, activation=activation, input_shape=(X_train.shape[1],)))\n",
    "    model.add(Dense(units, activation=activation))\n",
    "    model.add(Dense(3, activation='softmax'))\n",
    "    model.compile(optimizer=optimizer, loss='sparse_categorical_crossentropy', metrics=['accuracy'])\n",
    "    return model\n",
    "\n",
    "# Create a KerasClassifier wrapper for the deep learning model\n",
    "keras_model = tf.keras.wrappers.scikit_learn.KerasClassifier(build_fn=build_model)\n",
    "\n",
    "# Perform grid search with cross-validation\n",
    "grid_search = GridSearchCV(estimator=keras_model, param_grid=param_grid, cv=3)\n",
    "grid_search.fit(X_train, y_train)\n",
    "\n",
    "# Print the best parameters and the corresponding accuracy\n",
    "print(\"Best Parameters: \", grid_search.best_params_)\n",
    "print(\"Best Accuracy: \", grid_search.best_score_)\n",
    "\n",
    "# Evaluate the model on the testing set\n",
    "accuracy = grid_search.score(X_test, y_test)\n",
    "print(\"Test Accuracy: \", accuracy)"
   ]
  },
  {
   "attachments": {},
   "cell_type": "markdown",
   "metadata": {},
   "source": [
    "Best Parameters:  {'activation': 'sigmoid', 'epochs': 30, 'optimizer': 'adam', 'units': 128}\n",
    "Best Accuracy:  0.8017394542694092\n",
    "45/45 [==============================] - 0s 2ms/step - loss: 0.3961 - accuracy: 0.8148\n",
    "Test Accuracy:  0.8147622346878052\n"
   ]
  },
  {
   "attachments": {},
   "cell_type": "markdown",
   "metadata": {},
   "source": [
    "Based on the provided results, we can draw the following conclusions:\n",
    "\n",
    "Logistic Regression: The logistic regression model achieved an accuracy of 82.11%. It showed relatively balanced precision and recall for both classes (0 and 1), with an F1-score of 0.88 for class 0 and 0.64 for class 1. Overall, it performed well in predicting class 0 but had a lower performance in predicting class 1.\n",
    "\n",
    "Support Vector Classification (SVC): The SVC model achieved an accuracy of 81.41%. It showed higher precision, recall, and F1-score for class 0 compared to class 1, indicating better performance in predicting class 0.\n",
    "\n",
    "Random Forest Classification: The random forest model achieved an accuracy of 79.70%. It demonstrated good precision, recall, and F1-score for class 0 but had lower performance for class 1.\n",
    "\n",
    "Decision Tree Classification: The decision tree model achieved an accuracy of 71.75%. It showed relatively balanced precision and recall for both classes, indicating similar performance in predicting both classes.\n",
    "\n",
    "Naive Bayes Classification: The naive Bayes model achieved an accuracy of 66.57%. It exhibited higher precision, recall, and F1-score for class 0 compared to class 1, indicating better performance in predicting class 0.\n",
    "\n",
    "Neural Network (Keras): The neural network model achieved an accuracy of 79.91% on the test set.\n",
    "\n",
    "XGBoost, Adaboost, and Bagging: XGBoost achieved the highest accuracy of 80.70%, followed by Adaboost with 81.83% and Bagging with 77.71%.\n",
    "\n",
    "In conclusion, among the models evaluated, logistic regression, Adaboost, and SVC demonstrated relatively higher accuracies. Logistic regression performed well in predicting class 0, while Adaboost and SVC showed better overall performance in terms of precision, recall, and F1-score. Further analysis and fine-tuning of these models could potentially lead to even better results."
   ]
  },
  {
   "attachments": {},
   "cell_type": "markdown",
   "metadata": {},
   "source": [
    "#### below cell analyses the data, and also shows that dataset is imbalanced. Hence, lets try out Oversampling to improve the performance of the model"
   ]
  },
  {
   "cell_type": "code",
   "execution_count": 27,
   "metadata": {},
   "outputs": [
    {
     "name": "stdout",
     "output_type": "stream",
     "text": [
      "negative examples:  1869\n",
      "positive example:  5174\n"
     ]
    }
   ],
   "source": [
    "print(\"negative examples: \",np.count_nonzero(y))\n",
    "print(\"positive example: \", y.size -  np.count_nonzero(y))"
   ]
  },
  {
   "cell_type": "code",
   "execution_count": 28,
   "metadata": {},
   "outputs": [
    {
     "name": "stdout",
     "output_type": "stream",
     "text": [
      "Original class distribution: Counter({0: 4138, 1: 1496})\n",
      "Resampled class distribution: Counter({0: 4138, 1: 4138})\n"
     ]
    }
   ],
   "source": [
    "from imblearn.over_sampling import SMOTE\n",
    "from sklearn.datasets import make_classification\n",
    "from collections import Counter\n",
    "\n",
    "# Create an imbalanced dataset\n",
    "X, y = make_classification(n_classes=2, class_sep=2,\n",
    "                           weights=[0.1, 0.9], n_informative=3,\n",
    "                           n_redundant=1, flip_y=0, n_features=10,\n",
    "                           n_clusters_per_class=1, n_samples=1000,\n",
    "                           random_state=10)\n",
    "\n",
    "# Print the original class distribution\n",
    "print(f'Original class distribution: {Counter(y_train)}')\n",
    "\n",
    "# Perform oversampling using SMOTE\n",
    "sm = SMOTE(random_state=42)\n",
    "X_resampled, y_resampled = sm.fit_resample(X_train, y_train)\n",
    "\n",
    "# Print the resampled class distribution\n",
    "print(f'Resampled class distribution: {Counter(y_resampled)}')"
   ]
  },
  {
   "cell_type": "code",
   "execution_count": 29,
   "metadata": {},
   "outputs": [
    {
     "name": "stdout",
     "output_type": "stream",
     "text": [
      "Epoch 1/20\n",
      "259/259 [==============================] - 1s 2ms/step - loss: 0.5086 - accuracy: 0.7495\n",
      "Epoch 2/20\n",
      "259/259 [==============================] - 0s 2ms/step - loss: 0.4734 - accuracy: 0.7740\n",
      "Epoch 3/20\n",
      "259/259 [==============================] - 0s 2ms/step - loss: 0.4618 - accuracy: 0.7798\n",
      "Epoch 4/20\n",
      "259/259 [==============================] - 0s 2ms/step - loss: 0.4577 - accuracy: 0.7872\n",
      "Epoch 5/20\n",
      "259/259 [==============================] - 0s 2ms/step - loss: 0.4492 - accuracy: 0.7882\n",
      "Epoch 6/20\n",
      "259/259 [==============================] - 0s 2ms/step - loss: 0.4433 - accuracy: 0.7958\n",
      "Epoch 7/20\n",
      "259/259 [==============================] - 0s 2ms/step - loss: 0.4414 - accuracy: 0.7988\n",
      "Epoch 8/20\n",
      "259/259 [==============================] - 0s 2ms/step - loss: 0.4352 - accuracy: 0.8046\n",
      "Epoch 9/20\n",
      "259/259 [==============================] - 0s 2ms/step - loss: 0.4304 - accuracy: 0.8056\n",
      "Epoch 10/20\n",
      "259/259 [==============================] - 0s 1ms/step - loss: 0.4244 - accuracy: 0.8091\n",
      "Epoch 11/20\n",
      "259/259 [==============================] - 0s 1ms/step - loss: 0.4219 - accuracy: 0.8076\n",
      "Epoch 12/20\n",
      "259/259 [==============================] - 0s 1ms/step - loss: 0.4180 - accuracy: 0.8091\n",
      "Epoch 13/20\n",
      "259/259 [==============================] - 0s 1ms/step - loss: 0.4154 - accuracy: 0.8065\n",
      "Epoch 14/20\n",
      "259/259 [==============================] - 0s 2ms/step - loss: 0.4177 - accuracy: 0.8113\n",
      "Epoch 15/20\n",
      "259/259 [==============================] - 0s 1ms/step - loss: 0.4120 - accuracy: 0.8117\n",
      "Epoch 16/20\n",
      "259/259 [==============================] - 0s 1ms/step - loss: 0.4068 - accuracy: 0.8163\n",
      "Epoch 17/20\n",
      "259/259 [==============================] - 0s 1ms/step - loss: 0.4051 - accuracy: 0.8172\n",
      "Epoch 18/20\n",
      "259/259 [==============================] - 0s 1ms/step - loss: 0.4024 - accuracy: 0.8203\n",
      "Epoch 19/20\n",
      "259/259 [==============================] - 0s 1ms/step - loss: 0.3955 - accuracy: 0.8225\n",
      "Epoch 20/20\n",
      "259/259 [==============================] - 0s 1ms/step - loss: 0.3963 - accuracy: 0.8230\n",
      "45/45 [==============================] - 0s 964us/step - loss: 0.4844 - accuracy: 0.7622\n",
      "Test Accuracy: 0.7622427344322205\n"
     ]
    }
   ],
   "source": [
    "# Creating a deep learning model using TensorFlow\n",
    "model = tf.keras.models.Sequential([\n",
    "    Dense(128, activation='relu', input_shape=(X_train.shape[1],)),\n",
    "    Dropout(0.3),\n",
    "    Dense(64, activation='relu'),\n",
    "    Dropout(0.2),\n",
    "    Dense(64, activation='relu'),\n",
    "    Dense(1, activation='sigmoid')\n",
    "])\n",
    "model.compile(optimizer='adam', loss='binary_crossentropy', metrics=['accuracy'])\n",
    "model.fit(X_resampled, y_resampled, epochs=20)\n",
    "\n",
    "# Evaluating the model on the testing data\n",
    "test_loss, test_acc = model.evaluate(X_test, y_test)\n",
    "print('Test Accuracy:', test_acc)"
   ]
  },
  {
   "attachments": {},
   "cell_type": "markdown",
   "metadata": {},
   "source": [
    "### Trying the Polynomial Featues and see if it can imporove the Accuracy"
   ]
  },
  {
   "cell_type": "code",
   "execution_count": 30,
   "metadata": {},
   "outputs": [],
   "source": [
    "from sklearn.preprocessing import PolynomialFeatures\n",
    "\n",
    "X_for_poly = df.drop(['Churn'], axis=1)\n",
    "# Create interaction variables\n",
    "interaction = PolynomialFeatures(degree=2, interaction_only=True, include_bias=False)\n",
    "interaction_features = interaction.fit_transform(X_for_poly)\n",
    "\n",
    "interaction_df = pd.DataFrame(interaction_features, columns=interaction.get_feature_names_out(X_for_poly.columns.to_numpy()))\n",
    "X_for_poly = pd.concat([X_for_poly, interaction_df], axis=1)"
   ]
  },
  {
   "cell_type": "code",
   "execution_count": 31,
   "metadata": {},
   "outputs": [
    {
     "data": {
      "text/plain": [
       "(7043, 495)"
      ]
     },
     "execution_count": 31,
     "metadata": {},
     "output_type": "execute_result"
    }
   ],
   "source": [
    "X_for_poly.shape"
   ]
  },
  {
   "cell_type": "code",
   "execution_count": 34,
   "metadata": {},
   "outputs": [],
   "source": [
    "y_for_ploy = df['Churn']\n",
    "X_train_poly, X_test_poly, y_train_poly, y_test_poly = train_test_split(X_for_poly, y_for_ploy, test_size=0.2, random_state=42)"
   ]
  },
  {
   "cell_type": "code",
   "execution_count": 35,
   "metadata": {},
   "outputs": [
    {
     "name": "stdout",
     "output_type": "stream",
     "text": [
      "Epoch 1/20\n",
      "177/177 [==============================] - 1s 3ms/step - loss: 0.4587 - accuracy: 0.7772\n",
      "Epoch 2/20\n",
      "177/177 [==============================] - 1s 3ms/step - loss: 0.4351 - accuracy: 0.7982\n",
      "Epoch 3/20\n",
      "177/177 [==============================] - 0s 2ms/step - loss: 0.4257 - accuracy: 0.7984\n",
      "Epoch 4/20\n",
      "177/177 [==============================] - 0s 3ms/step - loss: 0.4179 - accuracy: 0.8032\n",
      "Epoch 5/20\n",
      "177/177 [==============================] - 0s 3ms/step - loss: 0.4148 - accuracy: 0.8076\n",
      "Epoch 6/20\n",
      "177/177 [==============================] - 0s 3ms/step - loss: 0.4114 - accuracy: 0.8033\n",
      "Epoch 7/20\n",
      "177/177 [==============================] - 0s 2ms/step - loss: 0.4063 - accuracy: 0.8048\n",
      "Epoch 8/20\n",
      "177/177 [==============================] - 0s 3ms/step - loss: 0.3999 - accuracy: 0.8117\n",
      "Epoch 9/20\n",
      "177/177 [==============================] - 1s 3ms/step - loss: 0.3971 - accuracy: 0.8110\n",
      "Epoch 10/20\n",
      "177/177 [==============================] - 1s 3ms/step - loss: 0.3990 - accuracy: 0.8131\n",
      "Epoch 11/20\n",
      "177/177 [==============================] - 1s 4ms/step - loss: 0.3846 - accuracy: 0.8152\n",
      "Epoch 12/20\n",
      "177/177 [==============================] - 1s 3ms/step - loss: 0.3880 - accuracy: 0.8195\n",
      "Epoch 13/20\n",
      "177/177 [==============================] - 0s 2ms/step - loss: 0.3799 - accuracy: 0.8245\n",
      "Epoch 14/20\n",
      "177/177 [==============================] - 0s 2ms/step - loss: 0.3782 - accuracy: 0.8202\n",
      "Epoch 15/20\n",
      "177/177 [==============================] - 0s 2ms/step - loss: 0.3698 - accuracy: 0.8264\n",
      "Epoch 16/20\n",
      "177/177 [==============================] - 0s 2ms/step - loss: 0.3665 - accuracy: 0.8293\n",
      "Epoch 17/20\n",
      "177/177 [==============================] - 0s 2ms/step - loss: 0.3629 - accuracy: 0.8291\n",
      "Epoch 18/20\n",
      "177/177 [==============================] - 0s 3ms/step - loss: 0.3542 - accuracy: 0.8298\n",
      "Epoch 19/20\n",
      "177/177 [==============================] - 1s 3ms/step - loss: 0.3468 - accuracy: 0.8330\n",
      "Epoch 20/20\n",
      "177/177 [==============================] - 0s 3ms/step - loss: 0.3455 - accuracy: 0.8369\n",
      "45/45 [==============================] - 0s 1ms/step - loss: 0.4637 - accuracy: 0.7949\n",
      "Test Accuracy: 0.7948899865150452\n"
     ]
    }
   ],
   "source": [
    "# Creating a deep learning model using TensorFlow\n",
    "model = tf.keras.models.Sequential([\n",
    "    Dense(128, activation='relu', input_shape=(X_train_poly.shape[1],)),\n",
    "    Dropout(0.3),\n",
    "    Dense(128, activation='relu'),\n",
    "    Dropout(0.2),\n",
    "    Dense(64, activation='relu'),\n",
    "    Dense(64, activation='relu'),\n",
    "    Dense(1, activation='sigmoid')\n",
    "])\n",
    "model.compile(optimizer='adam', loss='binary_crossentropy', metrics=['accuracy'])\n",
    "model.fit(X_train_poly, y_train_poly, epochs=20)\n",
    "\n",
    "# Evaluating the model on the testing data\n",
    "test_loss, test_acc = model.evaluate(X_test_poly, y_test_poly)\n",
    "print('Test Accuracy:', test_acc)"
   ]
  },
  {
   "attachments": {},
   "cell_type": "markdown",
   "metadata": {},
   "source": [
    "### Applying the Multiple ML models with LazyPredict python package"
   ]
  },
  {
   "cell_type": "code",
   "execution_count": 36,
   "metadata": {},
   "outputs": [
    {
     "name": "stderr",
     "output_type": "stream",
     "text": [
      "100%|██████████| 29/29 [00:13<00:00,  2.16it/s]\n"
     ]
    }
   ],
   "source": [
    "from lazypredict.Supervised import LazyClassifier\n",
    "ml_models  = LazyClassifier(verbose=0, predictions= True, ignore_warnings= True)\n",
    "models, predictions = ml_models.fit(X_train, X_test, y_train, y_test)"
   ]
  },
  {
   "cell_type": "code",
   "execution_count": 37,
   "metadata": {},
   "outputs": [
    {
     "data": {
      "text/html": [
       "<div>\n",
       "<style scoped>\n",
       "    .dataframe tbody tr th:only-of-type {\n",
       "        vertical-align: middle;\n",
       "    }\n",
       "\n",
       "    .dataframe tbody tr th {\n",
       "        vertical-align: top;\n",
       "    }\n",
       "\n",
       "    .dataframe thead th {\n",
       "        text-align: right;\n",
       "    }\n",
       "</style>\n",
       "<table border=\"1\" class=\"dataframe\">\n",
       "  <thead>\n",
       "    <tr style=\"text-align: right;\">\n",
       "      <th></th>\n",
       "      <th>Accuracy</th>\n",
       "      <th>Balanced Accuracy</th>\n",
       "      <th>ROC AUC</th>\n",
       "      <th>F1 Score</th>\n",
       "      <th>Time Taken</th>\n",
       "    </tr>\n",
       "    <tr>\n",
       "      <th>Model</th>\n",
       "      <th></th>\n",
       "      <th></th>\n",
       "      <th></th>\n",
       "      <th></th>\n",
       "      <th></th>\n",
       "    </tr>\n",
       "  </thead>\n",
       "  <tbody>\n",
       "    <tr>\n",
       "      <th>BernoulliNB</th>\n",
       "      <td>0.74</td>\n",
       "      <td>0.76</td>\n",
       "      <td>0.76</td>\n",
       "      <td>0.75</td>\n",
       "      <td>0.03</td>\n",
       "    </tr>\n",
       "    <tr>\n",
       "      <th>NearestCentroid</th>\n",
       "      <td>0.70</td>\n",
       "      <td>0.76</td>\n",
       "      <td>0.76</td>\n",
       "      <td>0.72</td>\n",
       "      <td>0.02</td>\n",
       "    </tr>\n",
       "    <tr>\n",
       "      <th>LogisticRegression</th>\n",
       "      <td>0.82</td>\n",
       "      <td>0.75</td>\n",
       "      <td>0.75</td>\n",
       "      <td>0.82</td>\n",
       "      <td>0.05</td>\n",
       "    </tr>\n",
       "    <tr>\n",
       "      <th>Perceptron</th>\n",
       "      <td>0.77</td>\n",
       "      <td>0.75</td>\n",
       "      <td>0.75</td>\n",
       "      <td>0.78</td>\n",
       "      <td>0.03</td>\n",
       "    </tr>\n",
       "    <tr>\n",
       "      <th>AdaBoostClassifier</th>\n",
       "      <td>0.82</td>\n",
       "      <td>0.75</td>\n",
       "      <td>0.75</td>\n",
       "      <td>0.82</td>\n",
       "      <td>0.32</td>\n",
       "    </tr>\n",
       "    <tr>\n",
       "      <th>LinearDiscriminantAnalysis</th>\n",
       "      <td>0.81</td>\n",
       "      <td>0.75</td>\n",
       "      <td>0.75</td>\n",
       "      <td>0.81</td>\n",
       "      <td>0.07</td>\n",
       "    </tr>\n",
       "    <tr>\n",
       "      <th>RidgeClassifierCV</th>\n",
       "      <td>0.82</td>\n",
       "      <td>0.74</td>\n",
       "      <td>0.74</td>\n",
       "      <td>0.82</td>\n",
       "      <td>0.04</td>\n",
       "    </tr>\n",
       "    <tr>\n",
       "      <th>RidgeClassifier</th>\n",
       "      <td>0.82</td>\n",
       "      <td>0.74</td>\n",
       "      <td>0.74</td>\n",
       "      <td>0.82</td>\n",
       "      <td>0.04</td>\n",
       "    </tr>\n",
       "    <tr>\n",
       "      <th>LinearSVC</th>\n",
       "      <td>0.82</td>\n",
       "      <td>0.74</td>\n",
       "      <td>0.74</td>\n",
       "      <td>0.81</td>\n",
       "      <td>0.47</td>\n",
       "    </tr>\n",
       "    <tr>\n",
       "      <th>CalibratedClassifierCV</th>\n",
       "      <td>0.82</td>\n",
       "      <td>0.74</td>\n",
       "      <td>0.74</td>\n",
       "      <td>0.81</td>\n",
       "      <td>1.81</td>\n",
       "    </tr>\n",
       "    <tr>\n",
       "      <th>GaussianNB</th>\n",
       "      <td>0.67</td>\n",
       "      <td>0.74</td>\n",
       "      <td>0.74</td>\n",
       "      <td>0.68</td>\n",
       "      <td>0.02</td>\n",
       "    </tr>\n",
       "    <tr>\n",
       "      <th>SVC</th>\n",
       "      <td>0.81</td>\n",
       "      <td>0.72</td>\n",
       "      <td>0.72</td>\n",
       "      <td>0.81</td>\n",
       "      <td>1.42</td>\n",
       "    </tr>\n",
       "    <tr>\n",
       "      <th>LGBMClassifier</th>\n",
       "      <td>0.80</td>\n",
       "      <td>0.72</td>\n",
       "      <td>0.72</td>\n",
       "      <td>0.80</td>\n",
       "      <td>0.20</td>\n",
       "    </tr>\n",
       "    <tr>\n",
       "      <th>QuadraticDiscriminantAnalysis</th>\n",
       "      <td>0.72</td>\n",
       "      <td>0.72</td>\n",
       "      <td>0.72</td>\n",
       "      <td>0.74</td>\n",
       "      <td>0.03</td>\n",
       "    </tr>\n",
       "    <tr>\n",
       "      <th>XGBClassifier</th>\n",
       "      <td>0.80</td>\n",
       "      <td>0.71</td>\n",
       "      <td>0.71</td>\n",
       "      <td>0.80</td>\n",
       "      <td>0.41</td>\n",
       "    </tr>\n",
       "    <tr>\n",
       "      <th>PassiveAggressiveClassifier</th>\n",
       "      <td>0.76</td>\n",
       "      <td>0.71</td>\n",
       "      <td>0.71</td>\n",
       "      <td>0.76</td>\n",
       "      <td>0.03</td>\n",
       "    </tr>\n",
       "    <tr>\n",
       "      <th>NuSVC</th>\n",
       "      <td>0.81</td>\n",
       "      <td>0.69</td>\n",
       "      <td>0.69</td>\n",
       "      <td>0.79</td>\n",
       "      <td>1.57</td>\n",
       "    </tr>\n",
       "    <tr>\n",
       "      <th>KNeighborsClassifier</th>\n",
       "      <td>0.77</td>\n",
       "      <td>0.69</td>\n",
       "      <td>0.69</td>\n",
       "      <td>0.77</td>\n",
       "      <td>0.24</td>\n",
       "    </tr>\n",
       "    <tr>\n",
       "      <th>ExtraTreesClassifier</th>\n",
       "      <td>0.79</td>\n",
       "      <td>0.69</td>\n",
       "      <td>0.69</td>\n",
       "      <td>0.78</td>\n",
       "      <td>0.65</td>\n",
       "    </tr>\n",
       "    <tr>\n",
       "      <th>RandomForestClassifier</th>\n",
       "      <td>0.79</td>\n",
       "      <td>0.68</td>\n",
       "      <td>0.68</td>\n",
       "      <td>0.78</td>\n",
       "      <td>0.78</td>\n",
       "    </tr>\n",
       "    <tr>\n",
       "      <th>LabelSpreading</th>\n",
       "      <td>0.74</td>\n",
       "      <td>0.67</td>\n",
       "      <td>0.67</td>\n",
       "      <td>0.74</td>\n",
       "      <td>2.61</td>\n",
       "    </tr>\n",
       "    <tr>\n",
       "      <th>ExtraTreeClassifier</th>\n",
       "      <td>0.74</td>\n",
       "      <td>0.67</td>\n",
       "      <td>0.67</td>\n",
       "      <td>0.74</td>\n",
       "      <td>0.03</td>\n",
       "    </tr>\n",
       "    <tr>\n",
       "      <th>LabelPropagation</th>\n",
       "      <td>0.74</td>\n",
       "      <td>0.67</td>\n",
       "      <td>0.67</td>\n",
       "      <td>0.74</td>\n",
       "      <td>2.15</td>\n",
       "    </tr>\n",
       "    <tr>\n",
       "      <th>BaggingClassifier</th>\n",
       "      <td>0.77</td>\n",
       "      <td>0.65</td>\n",
       "      <td>0.65</td>\n",
       "      <td>0.75</td>\n",
       "      <td>0.24</td>\n",
       "    </tr>\n",
       "    <tr>\n",
       "      <th>DecisionTreeClassifier</th>\n",
       "      <td>0.71</td>\n",
       "      <td>0.63</td>\n",
       "      <td>0.63</td>\n",
       "      <td>0.71</td>\n",
       "      <td>0.04</td>\n",
       "    </tr>\n",
       "    <tr>\n",
       "      <th>SGDClassifier</th>\n",
       "      <td>0.77</td>\n",
       "      <td>0.62</td>\n",
       "      <td>0.62</td>\n",
       "      <td>0.74</td>\n",
       "      <td>0.06</td>\n",
       "    </tr>\n",
       "    <tr>\n",
       "      <th>DummyClassifier</th>\n",
       "      <td>0.74</td>\n",
       "      <td>0.50</td>\n",
       "      <td>0.50</td>\n",
       "      <td>0.62</td>\n",
       "      <td>0.02</td>\n",
       "    </tr>\n",
       "  </tbody>\n",
       "</table>\n",
       "</div>"
      ],
      "text/plain": [
       "                               Accuracy  Balanced Accuracy  ROC AUC  F1 Score  \\\n",
       "Model                                                                           \n",
       "BernoulliNB                        0.74               0.76     0.76      0.75   \n",
       "NearestCentroid                    0.70               0.76     0.76      0.72   \n",
       "LogisticRegression                 0.82               0.75     0.75      0.82   \n",
       "Perceptron                         0.77               0.75     0.75      0.78   \n",
       "AdaBoostClassifier                 0.82               0.75     0.75      0.82   \n",
       "LinearDiscriminantAnalysis         0.81               0.75     0.75      0.81   \n",
       "RidgeClassifierCV                  0.82               0.74     0.74      0.82   \n",
       "RidgeClassifier                    0.82               0.74     0.74      0.82   \n",
       "LinearSVC                          0.82               0.74     0.74      0.81   \n",
       "CalibratedClassifierCV             0.82               0.74     0.74      0.81   \n",
       "GaussianNB                         0.67               0.74     0.74      0.68   \n",
       "SVC                                0.81               0.72     0.72      0.81   \n",
       "LGBMClassifier                     0.80               0.72     0.72      0.80   \n",
       "QuadraticDiscriminantAnalysis      0.72               0.72     0.72      0.74   \n",
       "XGBClassifier                      0.80               0.71     0.71      0.80   \n",
       "PassiveAggressiveClassifier        0.76               0.71     0.71      0.76   \n",
       "NuSVC                              0.81               0.69     0.69      0.79   \n",
       "KNeighborsClassifier               0.77               0.69     0.69      0.77   \n",
       "ExtraTreesClassifier               0.79               0.69     0.69      0.78   \n",
       "RandomForestClassifier             0.79               0.68     0.68      0.78   \n",
       "LabelSpreading                     0.74               0.67     0.67      0.74   \n",
       "ExtraTreeClassifier                0.74               0.67     0.67      0.74   \n",
       "LabelPropagation                   0.74               0.67     0.67      0.74   \n",
       "BaggingClassifier                  0.77               0.65     0.65      0.75   \n",
       "DecisionTreeClassifier             0.71               0.63     0.63      0.71   \n",
       "SGDClassifier                      0.77               0.62     0.62      0.74   \n",
       "DummyClassifier                    0.74               0.50     0.50      0.62   \n",
       "\n",
       "                               Time Taken  \n",
       "Model                                      \n",
       "BernoulliNB                          0.03  \n",
       "NearestCentroid                      0.02  \n",
       "LogisticRegression                   0.05  \n",
       "Perceptron                           0.03  \n",
       "AdaBoostClassifier                   0.32  \n",
       "LinearDiscriminantAnalysis           0.07  \n",
       "RidgeClassifierCV                    0.04  \n",
       "RidgeClassifier                      0.04  \n",
       "LinearSVC                            0.47  \n",
       "CalibratedClassifierCV               1.81  \n",
       "GaussianNB                           0.02  \n",
       "SVC                                  1.42  \n",
       "LGBMClassifier                       0.20  \n",
       "QuadraticDiscriminantAnalysis        0.03  \n",
       "XGBClassifier                        0.41  \n",
       "PassiveAggressiveClassifier          0.03  \n",
       "NuSVC                                1.57  \n",
       "KNeighborsClassifier                 0.24  \n",
       "ExtraTreesClassifier                 0.65  \n",
       "RandomForestClassifier               0.78  \n",
       "LabelSpreading                       2.61  \n",
       "ExtraTreeClassifier                  0.03  \n",
       "LabelPropagation                     2.15  \n",
       "BaggingClassifier                    0.24  \n",
       "DecisionTreeClassifier               0.04  \n",
       "SGDClassifier                        0.06  \n",
       "DummyClassifier                      0.02  "
      ]
     },
     "execution_count": 37,
     "metadata": {},
     "output_type": "execute_result"
    }
   ],
   "source": [
    "models"
   ]
  },
  {
   "cell_type": "code",
   "execution_count": 39,
   "metadata": {},
   "outputs": [
    {
     "data": {
      "text/html": [
       "<div>\n",
       "<style scoped>\n",
       "    .dataframe tbody tr th:only-of-type {\n",
       "        vertical-align: middle;\n",
       "    }\n",
       "\n",
       "    .dataframe tbody tr th {\n",
       "        vertical-align: top;\n",
       "    }\n",
       "\n",
       "    .dataframe thead th {\n",
       "        text-align: right;\n",
       "    }\n",
       "</style>\n",
       "<table border=\"1\" class=\"dataframe\">\n",
       "  <thead>\n",
       "    <tr style=\"text-align: right;\">\n",
       "      <th></th>\n",
       "      <th>AdaBoostClassifier</th>\n",
       "      <th>BaggingClassifier</th>\n",
       "      <th>BernoulliNB</th>\n",
       "      <th>CalibratedClassifierCV</th>\n",
       "      <th>DecisionTreeClassifier</th>\n",
       "      <th>DummyClassifier</th>\n",
       "      <th>ExtraTreeClassifier</th>\n",
       "      <th>ExtraTreesClassifier</th>\n",
       "      <th>GaussianNB</th>\n",
       "      <th>KNeighborsClassifier</th>\n",
       "      <th>LabelPropagation</th>\n",
       "      <th>LabelSpreading</th>\n",
       "      <th>LinearDiscriminantAnalysis</th>\n",
       "      <th>LinearSVC</th>\n",
       "      <th>LogisticRegression</th>\n",
       "      <th>NearestCentroid</th>\n",
       "      <th>NuSVC</th>\n",
       "      <th>PassiveAggressiveClassifier</th>\n",
       "      <th>Perceptron</th>\n",
       "      <th>QuadraticDiscriminantAnalysis</th>\n",
       "      <th>RandomForestClassifier</th>\n",
       "      <th>RidgeClassifier</th>\n",
       "      <th>RidgeClassifierCV</th>\n",
       "      <th>SGDClassifier</th>\n",
       "      <th>SVC</th>\n",
       "      <th>XGBClassifier</th>\n",
       "      <th>LGBMClassifier</th>\n",
       "    </tr>\n",
       "  </thead>\n",
       "  <tbody>\n",
       "    <tr>\n",
       "      <th>0</th>\n",
       "      <td>1</td>\n",
       "      <td>1</td>\n",
       "      <td>1</td>\n",
       "      <td>1</td>\n",
       "      <td>1</td>\n",
       "      <td>0</td>\n",
       "      <td>0</td>\n",
       "      <td>0</td>\n",
       "      <td>1</td>\n",
       "      <td>1</td>\n",
       "      <td>0</td>\n",
       "      <td>0</td>\n",
       "      <td>1</td>\n",
       "      <td>1</td>\n",
       "      <td>1</td>\n",
       "      <td>1</td>\n",
       "      <td>0</td>\n",
       "      <td>1</td>\n",
       "      <td>1</td>\n",
       "      <td>0</td>\n",
       "      <td>1</td>\n",
       "      <td>1</td>\n",
       "      <td>1</td>\n",
       "      <td>0</td>\n",
       "      <td>1</td>\n",
       "      <td>1</td>\n",
       "      <td>1</td>\n",
       "    </tr>\n",
       "    <tr>\n",
       "      <th>1</th>\n",
       "      <td>0</td>\n",
       "      <td>0</td>\n",
       "      <td>0</td>\n",
       "      <td>0</td>\n",
       "      <td>1</td>\n",
       "      <td>0</td>\n",
       "      <td>0</td>\n",
       "      <td>0</td>\n",
       "      <td>0</td>\n",
       "      <td>0</td>\n",
       "      <td>0</td>\n",
       "      <td>0</td>\n",
       "      <td>0</td>\n",
       "      <td>0</td>\n",
       "      <td>0</td>\n",
       "      <td>0</td>\n",
       "      <td>0</td>\n",
       "      <td>0</td>\n",
       "      <td>0</td>\n",
       "      <td>0</td>\n",
       "      <td>0</td>\n",
       "      <td>0</td>\n",
       "      <td>0</td>\n",
       "      <td>0</td>\n",
       "      <td>0</td>\n",
       "      <td>0</td>\n",
       "      <td>0</td>\n",
       "    </tr>\n",
       "    <tr>\n",
       "      <th>2</th>\n",
       "      <td>0</td>\n",
       "      <td>0</td>\n",
       "      <td>0</td>\n",
       "      <td>0</td>\n",
       "      <td>0</td>\n",
       "      <td>0</td>\n",
       "      <td>0</td>\n",
       "      <td>0</td>\n",
       "      <td>0</td>\n",
       "      <td>0</td>\n",
       "      <td>0</td>\n",
       "      <td>0</td>\n",
       "      <td>0</td>\n",
       "      <td>0</td>\n",
       "      <td>0</td>\n",
       "      <td>0</td>\n",
       "      <td>0</td>\n",
       "      <td>0</td>\n",
       "      <td>0</td>\n",
       "      <td>0</td>\n",
       "      <td>0</td>\n",
       "      <td>0</td>\n",
       "      <td>0</td>\n",
       "      <td>0</td>\n",
       "      <td>0</td>\n",
       "      <td>0</td>\n",
       "      <td>0</td>\n",
       "    </tr>\n",
       "    <tr>\n",
       "      <th>3</th>\n",
       "      <td>1</td>\n",
       "      <td>1</td>\n",
       "      <td>1</td>\n",
       "      <td>1</td>\n",
       "      <td>0</td>\n",
       "      <td>0</td>\n",
       "      <td>0</td>\n",
       "      <td>0</td>\n",
       "      <td>1</td>\n",
       "      <td>1</td>\n",
       "      <td>0</td>\n",
       "      <td>0</td>\n",
       "      <td>1</td>\n",
       "      <td>1</td>\n",
       "      <td>1</td>\n",
       "      <td>1</td>\n",
       "      <td>1</td>\n",
       "      <td>1</td>\n",
       "      <td>1</td>\n",
       "      <td>1</td>\n",
       "      <td>1</td>\n",
       "      <td>1</td>\n",
       "      <td>1</td>\n",
       "      <td>0</td>\n",
       "      <td>1</td>\n",
       "      <td>1</td>\n",
       "      <td>1</td>\n",
       "    </tr>\n",
       "    <tr>\n",
       "      <th>4</th>\n",
       "      <td>0</td>\n",
       "      <td>0</td>\n",
       "      <td>0</td>\n",
       "      <td>0</td>\n",
       "      <td>0</td>\n",
       "      <td>0</td>\n",
       "      <td>0</td>\n",
       "      <td>0</td>\n",
       "      <td>0</td>\n",
       "      <td>0</td>\n",
       "      <td>0</td>\n",
       "      <td>0</td>\n",
       "      <td>0</td>\n",
       "      <td>0</td>\n",
       "      <td>0</td>\n",
       "      <td>0</td>\n",
       "      <td>0</td>\n",
       "      <td>0</td>\n",
       "      <td>0</td>\n",
       "      <td>0</td>\n",
       "      <td>0</td>\n",
       "      <td>0</td>\n",
       "      <td>0</td>\n",
       "      <td>0</td>\n",
       "      <td>0</td>\n",
       "      <td>0</td>\n",
       "      <td>0</td>\n",
       "    </tr>\n",
       "  </tbody>\n",
       "</table>\n",
       "</div>"
      ],
      "text/plain": [
       "   AdaBoostClassifier  BaggingClassifier  BernoulliNB  CalibratedClassifierCV  \\\n",
       "0                   1                  1            1                       1   \n",
       "1                   0                  0            0                       0   \n",
       "2                   0                  0            0                       0   \n",
       "3                   1                  1            1                       1   \n",
       "4                   0                  0            0                       0   \n",
       "\n",
       "   DecisionTreeClassifier  DummyClassifier  ExtraTreeClassifier  \\\n",
       "0                       1                0                    0   \n",
       "1                       1                0                    0   \n",
       "2                       0                0                    0   \n",
       "3                       0                0                    0   \n",
       "4                       0                0                    0   \n",
       "\n",
       "   ExtraTreesClassifier  GaussianNB  KNeighborsClassifier  LabelPropagation  \\\n",
       "0                     0           1                     1                 0   \n",
       "1                     0           0                     0                 0   \n",
       "2                     0           0                     0                 0   \n",
       "3                     0           1                     1                 0   \n",
       "4                     0           0                     0                 0   \n",
       "\n",
       "   LabelSpreading  LinearDiscriminantAnalysis  LinearSVC  LogisticRegression  \\\n",
       "0               0                           1          1                   1   \n",
       "1               0                           0          0                   0   \n",
       "2               0                           0          0                   0   \n",
       "3               0                           1          1                   1   \n",
       "4               0                           0          0                   0   \n",
       "\n",
       "   NearestCentroid  NuSVC  PassiveAggressiveClassifier  Perceptron  \\\n",
       "0                1      0                            1           1   \n",
       "1                0      0                            0           0   \n",
       "2                0      0                            0           0   \n",
       "3                1      1                            1           1   \n",
       "4                0      0                            0           0   \n",
       "\n",
       "   QuadraticDiscriminantAnalysis  RandomForestClassifier  RidgeClassifier  \\\n",
       "0                              0                       1                1   \n",
       "1                              0                       0                0   \n",
       "2                              0                       0                0   \n",
       "3                              1                       1                1   \n",
       "4                              0                       0                0   \n",
       "\n",
       "   RidgeClassifierCV  SGDClassifier  SVC  XGBClassifier  LGBMClassifier  \n",
       "0                  1              0    1              1               1  \n",
       "1                  0              0    0              0               0  \n",
       "2                  0              0    0              0               0  \n",
       "3                  1              0    1              1               1  \n",
       "4                  0              0    0              0               0  "
      ]
     },
     "execution_count": 39,
     "metadata": {},
     "output_type": "execute_result"
    }
   ],
   "source": [
    "predictions.head()"
   ]
  },
  {
   "attachments": {},
   "cell_type": "markdown",
   "metadata": {},
   "source": [
    "## Conclsuion  \n",
    "Based on the provided results, we can draw the following conclusions:\n",
    "\n",
    "Model Performance: The accuracy of the models varies between 0.67 and 0.82, indicating a range of performance levels. The LogisticRegression, AdaBoostClassifier, RidgeClassifierCV, RidgeClassifier, LinearSVC, and CalibratedClassifierCV models achieved relatively higher accuracy scores, ranging from 0.81 to 0.82. On the other hand, GaussianNB had the lowest accuracy of 0.67.\n",
    "\n",
    "Balanced Accuracy: The balanced accuracy, which considers the sensitivity and specificity of the model, ranges from 0.63 to 0.76. NearestCentroid, BernoulliNB, and LinearDiscriminantAnalysis achieved the highest balanced accuracy scores of 0.76.\n",
    "\n",
    "ROC AUC: The area under the Receiver Operating Characteristic (ROC) curve (ROC AUC) is a measure of the model's ability to distinguish between positive and negative classes. The ROC AUC values in the given results range from 0.50 to 0.76. BernoulliNB, NearestCentroid, LogisticRegression, and Perceptron achieved the highest ROC AUC scores of 0.76.\n",
    "\n",
    "F1 Score: The F1 score considers both precision and recall of the model, providing a balanced measure of performance. The F1 scores in the given results range from 0.62 to 0.82. LogisticRegression, AdaBoostClassifier, RidgeClassifierCV, RidgeClassifier, and LinearSVC achieved the highest F1 scores of 0.82.\n",
    "\n",
    "Time Taken: The time taken by each model for training and inference varies between 0.02 and 2.98 seconds. Some models, such as CalibratedClassifierCV, LabelSpreading, and LabelPropagation, took relatively longer times for training and inference.\n",
    "\n",
    "Based on these results, it appears that LogisticRegression, AdaBoostClassifier, RidgeClassifierCV, RidgeClassifier, and LinearSVC models consistently performed well across different evaluation metrics, including accuracy, balanced accuracy, ROC AUC, and F1 score. These models could be considered as potential candidates for further analysis and optimization. Additionally, it might be worth investigating the poor performance of the GaussianNB model and considering alternative approaches or feature engineering techniques to improve its accuracy."
   ]
  }
 ],
 "metadata": {
  "kernelspec": {
   "display_name": "base",
   "language": "python",
   "name": "python3"
  },
  "language_info": {
   "codemirror_mode": {
    "name": "ipython",
    "version": 3
   },
   "file_extension": ".py",
   "mimetype": "text/x-python",
   "name": "python",
   "nbconvert_exporter": "python",
   "pygments_lexer": "ipython3",
   "version": "3.10.9"
  },
  "orig_nbformat": 4
 },
 "nbformat": 4,
 "nbformat_minor": 2
}
